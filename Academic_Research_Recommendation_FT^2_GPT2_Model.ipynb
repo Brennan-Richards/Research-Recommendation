{
  "nbformat": 4,
  "nbformat_minor": 0,
  "metadata": {
    "colab": {
      "provenance": [],
      "include_colab_link": true
    },
    "kernelspec": {
      "name": "python3",
      "display_name": "Python 3"
    },
    "language_info": {
      "name": "python"
    },
    "accelerator": "GPU"
  },
  "cells": [
    {
      "cell_type": "markdown",
      "metadata": {
        "id": "view-in-github",
        "colab_type": "text"
      },
      "source": [
        "<a href=\"https://colab.research.google.com/github/Brennan-Richards/Research-Recommendation/blob/main/Academic_Research_Recommendation_FT%5E2_GPT2_Model.ipynb\" target=\"_parent\"><img src=\"https://colab.research.google.com/assets/colab-badge.svg\" alt=\"Open In Colab\"/></a>"
      ]
    },
    {
      "cell_type": "code",
      "source": [
        "from google.colab import drive\n",
        "drive.mount('/content/drive')"
      ],
      "metadata": {
        "colab": {
          "base_uri": "https://localhost:8080/"
        },
        "id": "R4Mmm-qDmOyV",
        "outputId": "54ee2c0b-fb8a-42fc-b71f-309caee8ea40"
      },
      "execution_count": null,
      "outputs": [
        {
          "output_type": "stream",
          "name": "stdout",
          "text": [
            "Drive already mounted at /content/drive; to attempt to forcibly remount, call drive.mount(\"/content/drive\", force_remount=True).\n"
          ]
        }
      ]
    },
    {
      "cell_type": "code",
      "source": [
        "import os\n",
        "os.chdir('/')\n",
        "# os.chdir('content/drive/MyDrive/CSC561')\n",
        "os.chdir('content/drive/Shareddrives/CSC561 Finals')"
      ],
      "metadata": {
        "id": "ueYuu0amig54"
      },
      "execution_count": null,
      "outputs": []
    },
    {
      "cell_type": "code",
      "source": [
        "!ls"
      ],
      "metadata": {
        "colab": {
          "base_uri": "https://localhost:8080/"
        },
        "id": "OIprzLD_jD-H",
        "outputId": "a6e0884b-70b2-4aef-ca32-632da6dbd0f5"
      },
      "execution_count": null,
      "outputs": [
        {
          "output_type": "stream",
          "name": "stdout",
          "text": [
            " brennan-richards\t\t\t  gpt2-finetuned-academic-topics\n",
            "'Choosing Final Project Framework.gdoc'   permuted_tags_by_user.csv\n",
            "'CiteULike Dataset.gdoc'\t\t  tags_by_user.csv\n",
            " clean_tags.csv\t\t\t\t  tags.dat\n",
            "'Final Project Dataset Engineering'\t  tags_df_w_embed_dist.csv\n",
            "'Fine Tuning GPT-2 HuggingFace'\t\t  thumbnail-temp.png\n",
            " flagged\t\t\t\t  users.dat\n",
            "'FT^2 GPT2 Model.ipynb'\n"
          ]
        }
      ]
    },
    {
      "cell_type": "code",
      "execution_count": null,
      "metadata": {
        "colab": {
          "base_uri": "https://localhost:8080/"
        },
        "id": "AZjhV1O6gZZ-",
        "outputId": "4fb7915a-a4af-47b9-81af-9df2a6e28bde"
      },
      "outputs": [
        {
          "output_type": "stream",
          "name": "stdout",
          "text": [
            "Looking in indexes: https://pypi.org/simple, https://us-python.pkg.dev/colab-wheels/public/simple/\n",
            "Requirement already satisfied: trl in /usr/local/lib/python3.8/dist-packages (0.1.0)\n",
            "Requirement already satisfied: torch>=1.4.0 in /usr/local/lib/python3.8/dist-packages (from trl) (1.13.0+cu116)\n",
            "Requirement already satisfied: numpy>=1.18.2 in /usr/local/lib/python3.8/dist-packages (from trl) (1.21.6)\n",
            "Collecting transformers==4.3.2\n",
            "  Using cached transformers-4.3.2-py3-none-any.whl (1.8 MB)\n",
            "Requirement already satisfied: filelock in /usr/local/lib/python3.8/dist-packages (from transformers==4.3.2->trl) (3.9.0)\n",
            "Requirement already satisfied: requests in /usr/local/lib/python3.8/dist-packages (from transformers==4.3.2->trl) (2.25.1)\n",
            "Requirement already satisfied: tqdm>=4.27 in /usr/local/lib/python3.8/dist-packages (from transformers==4.3.2->trl) (4.64.1)\n",
            "Collecting tokenizers<0.11,>=0.10.1\n",
            "  Using cached tokenizers-0.10.3-cp38-cp38-manylinux_2_5_x86_64.manylinux1_x86_64.manylinux_2_12_x86_64.manylinux2010_x86_64.whl (3.3 MB)\n",
            "Requirement already satisfied: regex!=2019.12.17 in /usr/local/lib/python3.8/dist-packages (from transformers==4.3.2->trl) (2022.6.2)\n",
            "Requirement already satisfied: packaging in /usr/local/lib/python3.8/dist-packages (from transformers==4.3.2->trl) (21.3)\n",
            "Requirement already satisfied: sacremoses in /usr/local/lib/python3.8/dist-packages (from transformers==4.3.2->trl) (0.0.53)\n",
            "Requirement already satisfied: typing-extensions in /usr/local/lib/python3.8/dist-packages (from torch>=1.4.0->trl) (4.4.0)\n",
            "Requirement already satisfied: pyparsing!=3.0.5,>=2.0.2 in /usr/local/lib/python3.8/dist-packages (from packaging->transformers==4.3.2->trl) (3.0.9)\n",
            "Requirement already satisfied: certifi>=2017.4.17 in /usr/local/lib/python3.8/dist-packages (from requests->transformers==4.3.2->trl) (2022.12.7)\n",
            "Requirement already satisfied: urllib3<1.27,>=1.21.1 in /usr/local/lib/python3.8/dist-packages (from requests->transformers==4.3.2->trl) (1.24.3)\n",
            "Requirement already satisfied: idna<3,>=2.5 in /usr/local/lib/python3.8/dist-packages (from requests->transformers==4.3.2->trl) (2.10)\n",
            "Requirement already satisfied: chardet<5,>=3.0.2 in /usr/local/lib/python3.8/dist-packages (from requests->transformers==4.3.2->trl) (4.0.0)\n",
            "Requirement already satisfied: joblib in /usr/local/lib/python3.8/dist-packages (from sacremoses->transformers==4.3.2->trl) (1.2.0)\n",
            "Requirement already satisfied: click in /usr/local/lib/python3.8/dist-packages (from sacremoses->transformers==4.3.2->trl) (7.1.2)\n",
            "Requirement already satisfied: six in /usr/local/lib/python3.8/dist-packages (from sacremoses->transformers==4.3.2->trl) (1.15.0)\n",
            "Installing collected packages: tokenizers, transformers\n",
            "  Attempting uninstall: tokenizers\n",
            "    Found existing installation: tokenizers 0.13.2\n",
            "    Uninstalling tokenizers-0.13.2:\n",
            "      Successfully uninstalled tokenizers-0.13.2\n",
            "  Attempting uninstall: transformers\n",
            "    Found existing installation: transformers 4.25.1\n",
            "    Uninstalling transformers-4.25.1:\n",
            "      Successfully uninstalled transformers-4.25.1\n",
            "Successfully installed tokenizers-0.10.3 transformers-4.3.2\n",
            "Looking in indexes: https://pypi.org/simple, https://us-python.pkg.dev/colab-wheels/public/simple/\n",
            "Requirement already satisfied: transformers in /usr/local/lib/python3.8/dist-packages (4.3.2)\n",
            "Collecting transformers\n",
            "  Using cached transformers-4.25.1-py3-none-any.whl (5.8 MB)\n",
            "Requirement already satisfied: requests in /usr/local/lib/python3.8/dist-packages (from transformers) (2.25.1)\n",
            "Requirement already satisfied: numpy>=1.17 in /usr/local/lib/python3.8/dist-packages (from transformers) (1.21.6)\n",
            "Requirement already satisfied: packaging>=20.0 in /usr/local/lib/python3.8/dist-packages (from transformers) (21.3)\n",
            "Requirement already satisfied: huggingface-hub<1.0,>=0.10.0 in /usr/local/lib/python3.8/dist-packages (from transformers) (0.11.1)\n",
            "Requirement already satisfied: filelock in /usr/local/lib/python3.8/dist-packages (from transformers) (3.9.0)\n",
            "Requirement already satisfied: tqdm>=4.27 in /usr/local/lib/python3.8/dist-packages (from transformers) (4.64.1)\n",
            "Requirement already satisfied: pyyaml>=5.1 in /usr/local/lib/python3.8/dist-packages (from transformers) (6.0)\n",
            "Collecting tokenizers!=0.11.3,<0.14,>=0.11.1\n",
            "  Using cached tokenizers-0.13.2-cp38-cp38-manylinux_2_17_x86_64.manylinux2014_x86_64.whl (7.6 MB)\n",
            "Requirement already satisfied: regex!=2019.12.17 in /usr/local/lib/python3.8/dist-packages (from transformers) (2022.6.2)\n",
            "Requirement already satisfied: typing-extensions>=3.7.4.3 in /usr/local/lib/python3.8/dist-packages (from huggingface-hub<1.0,>=0.10.0->transformers) (4.4.0)\n",
            "Requirement already satisfied: pyparsing!=3.0.5,>=2.0.2 in /usr/local/lib/python3.8/dist-packages (from packaging>=20.0->transformers) (3.0.9)\n",
            "Requirement already satisfied: chardet<5,>=3.0.2 in /usr/local/lib/python3.8/dist-packages (from requests->transformers) (4.0.0)\n",
            "Requirement already satisfied: certifi>=2017.4.17 in /usr/local/lib/python3.8/dist-packages (from requests->transformers) (2022.12.7)\n",
            "Requirement already satisfied: urllib3<1.27,>=1.21.1 in /usr/local/lib/python3.8/dist-packages (from requests->transformers) (1.24.3)\n",
            "Requirement already satisfied: idna<3,>=2.5 in /usr/local/lib/python3.8/dist-packages (from requests->transformers) (2.10)\n",
            "Installing collected packages: tokenizers, transformers\n",
            "  Attempting uninstall: tokenizers\n",
            "    Found existing installation: tokenizers 0.10.3\n",
            "    Uninstalling tokenizers-0.10.3:\n",
            "      Successfully uninstalled tokenizers-0.10.3\n",
            "  Attempting uninstall: transformers\n",
            "    Found existing installation: transformers 4.3.2\n",
            "    Uninstalling transformers-4.3.2:\n",
            "      Successfully uninstalled transformers-4.3.2\n",
            "\u001b[31mERROR: pip's dependency resolver does not currently take into account all the packages that are installed. This behaviour is the source of the following dependency conflicts.\n",
            "trl 0.1.0 requires transformers==4.3.2, but you have transformers 4.25.1 which is incompatible.\u001b[0m\u001b[31m\n",
            "\u001b[0mSuccessfully installed tokenizers-0.13.2 transformers-4.25.1\n"
          ]
        }
      ],
      "source": [
        "!pip3 install trl\n",
        "!pip install -U transformers"
      ]
    },
    {
      "cell_type": "code",
      "source": [
        "!pip install huggingface_hub\n",
        "!apt install git-lfs"
      ],
      "metadata": {
        "colab": {
          "base_uri": "https://localhost:8080/"
        },
        "id": "J6Fh5rw3lbAZ",
        "outputId": "30d31f8e-296f-46e6-b7db-f1a4c5795895"
      },
      "execution_count": null,
      "outputs": [
        {
          "output_type": "stream",
          "name": "stdout",
          "text": [
            "Looking in indexes: https://pypi.org/simple, https://us-python.pkg.dev/colab-wheels/public/simple/\n",
            "Requirement already satisfied: huggingface_hub in /usr/local/lib/python3.8/dist-packages (0.11.1)\n",
            "Requirement already satisfied: tqdm in /usr/local/lib/python3.8/dist-packages (from huggingface_hub) (4.64.1)\n",
            "Requirement already satisfied: typing-extensions>=3.7.4.3 in /usr/local/lib/python3.8/dist-packages (from huggingface_hub) (4.4.0)\n",
            "Requirement already satisfied: requests in /usr/local/lib/python3.8/dist-packages (from huggingface_hub) (2.25.1)\n",
            "Requirement already satisfied: filelock in /usr/local/lib/python3.8/dist-packages (from huggingface_hub) (3.9.0)\n",
            "Requirement already satisfied: pyyaml>=5.1 in /usr/local/lib/python3.8/dist-packages (from huggingface_hub) (6.0)\n",
            "Requirement already satisfied: packaging>=20.9 in /usr/local/lib/python3.8/dist-packages (from huggingface_hub) (21.3)\n",
            "Requirement already satisfied: pyparsing!=3.0.5,>=2.0.2 in /usr/local/lib/python3.8/dist-packages (from packaging>=20.9->huggingface_hub) (3.0.9)\n",
            "Requirement already satisfied: idna<3,>=2.5 in /usr/local/lib/python3.8/dist-packages (from requests->huggingface_hub) (2.10)\n",
            "Requirement already satisfied: urllib3<1.27,>=1.21.1 in /usr/local/lib/python3.8/dist-packages (from requests->huggingface_hub) (1.24.3)\n",
            "Requirement already satisfied: certifi>=2017.4.17 in /usr/local/lib/python3.8/dist-packages (from requests->huggingface_hub) (2022.12.7)\n",
            "Requirement already satisfied: chardet<5,>=3.0.2 in /usr/local/lib/python3.8/dist-packages (from requests->huggingface_hub) (4.0.0)\n",
            "Reading package lists... Done\n",
            "Building dependency tree       \n",
            "Reading state information... Done\n",
            "git-lfs is already the newest version (2.3.4-1).\n",
            "The following package was automatically installed and is no longer required:\n",
            "  libnvidia-common-460\n",
            "Use 'apt autoremove' to remove it.\n",
            "0 upgraded, 0 newly installed, 0 to remove and 21 not upgraded.\n"
          ]
        }
      ]
    },
    {
      "cell_type": "code",
      "source": [
        "!pip install -U gradio"
      ],
      "metadata": {
        "colab": {
          "base_uri": "https://localhost:8080/"
        },
        "id": "RRuKyk1AemFl",
        "outputId": "94ffba9b-d675-480d-b4f9-20c9ba9899d9"
      },
      "execution_count": null,
      "outputs": [
        {
          "output_type": "stream",
          "name": "stdout",
          "text": [
            "Looking in indexes: https://pypi.org/simple, https://us-python.pkg.dev/colab-wheels/public/simple/\n",
            "Requirement already satisfied: gradio in /usr/local/lib/python3.8/dist-packages (2.5.0)\n",
            "Collecting gradio\n",
            "  Using cached gradio-3.16.2-py3-none-any.whl (14.2 MB)\n",
            "Requirement already satisfied: numpy in /usr/local/lib/python3.8/dist-packages (from gradio) (1.21.6)\n",
            "Requirement already satisfied: fastapi in /usr/local/lib/python3.8/dist-packages (from gradio) (0.89.1)\n",
            "Requirement already satisfied: httpx in /usr/local/lib/python3.8/dist-packages (from gradio) (0.23.3)\n",
            "Requirement already satisfied: orjson in /usr/local/lib/python3.8/dist-packages (from gradio) (3.8.5)\n",
            "Requirement already satisfied: pydub in /usr/local/lib/python3.8/dist-packages (from gradio) (0.25.1)\n",
            "Requirement already satisfied: python-multipart in /usr/local/lib/python3.8/dist-packages (from gradio) (0.0.5)\n",
            "Requirement already satisfied: markdown-it-py[linkify,plugins] in /usr/local/lib/python3.8/dist-packages (from gradio) (2.1.0)\n",
            "Requirement already satisfied: ffmpy in /usr/local/lib/python3.8/dist-packages (from gradio) (0.3.0)\n",
            "Requirement already satisfied: matplotlib in /usr/local/lib/python3.8/dist-packages (from gradio) (3.2.2)\n",
            "Requirement already satisfied: pycryptodome in /usr/local/lib/python3.8/dist-packages (from gradio) (3.16.0)\n",
            "Requirement already satisfied: typing-extensions in /usr/local/lib/python3.8/dist-packages (from gradio) (4.4.0)\n",
            "Requirement already satisfied: jinja2 in /usr/local/lib/python3.8/dist-packages (from gradio) (2.11.3)\n",
            "Requirement already satisfied: pyyaml in /usr/local/lib/python3.8/dist-packages (from gradio) (6.0)\n",
            "Requirement already satisfied: pillow in /usr/local/lib/python3.8/dist-packages (from gradio) (7.1.2)\n",
            "Requirement already satisfied: aiohttp in /usr/local/lib/python3.8/dist-packages (from gradio) (3.8.3)\n",
            "Requirement already satisfied: markupsafe in /usr/local/lib/python3.8/dist-packages (from gradio) (2.0.1)\n",
            "Requirement already satisfied: fsspec in /usr/local/lib/python3.8/dist-packages (from gradio) (2022.11.0)\n",
            "Requirement already satisfied: aiofiles in /usr/local/lib/python3.8/dist-packages (from gradio) (22.1.0)\n",
            "Requirement already satisfied: requests in /usr/local/lib/python3.8/dist-packages (from gradio) (2.25.1)\n",
            "Requirement already satisfied: websockets>=10.0 in /usr/local/lib/python3.8/dist-packages (from gradio) (10.4)\n",
            "Requirement already satisfied: pandas in /usr/local/lib/python3.8/dist-packages (from gradio) (1.3.5)\n",
            "Requirement already satisfied: altair>=4.2.0 in /usr/local/lib/python3.8/dist-packages (from gradio) (4.2.0)\n",
            "Requirement already satisfied: pydantic in /usr/local/lib/python3.8/dist-packages (from gradio) (1.10.4)\n",
            "Requirement already satisfied: uvicorn in /usr/local/lib/python3.8/dist-packages (from gradio) (0.20.0)\n",
            "Requirement already satisfied: entrypoints in /usr/local/lib/python3.8/dist-packages (from altair>=4.2.0->gradio) (0.4)\n",
            "Requirement already satisfied: jsonschema>=3.0 in /usr/local/lib/python3.8/dist-packages (from altair>=4.2.0->gradio) (4.3.3)\n",
            "Requirement already satisfied: toolz in /usr/local/lib/python3.8/dist-packages (from altair>=4.2.0->gradio) (0.12.0)\n",
            "Requirement already satisfied: python-dateutil>=2.7.3 in /usr/local/lib/python3.8/dist-packages (from pandas->gradio) (2.8.2)\n",
            "Requirement already satisfied: pytz>=2017.3 in /usr/local/lib/python3.8/dist-packages (from pandas->gradio) (2022.7)\n",
            "Requirement already satisfied: aiosignal>=1.1.2 in /usr/local/lib/python3.8/dist-packages (from aiohttp->gradio) (1.3.1)\n",
            "Requirement already satisfied: yarl<2.0,>=1.0 in /usr/local/lib/python3.8/dist-packages (from aiohttp->gradio) (1.8.2)\n",
            "Requirement already satisfied: charset-normalizer<3.0,>=2.0 in /usr/local/lib/python3.8/dist-packages (from aiohttp->gradio) (2.1.1)\n",
            "Requirement already satisfied: async-timeout<5.0,>=4.0.0a3 in /usr/local/lib/python3.8/dist-packages (from aiohttp->gradio) (4.0.2)\n",
            "Requirement already satisfied: attrs>=17.3.0 in /usr/local/lib/python3.8/dist-packages (from aiohttp->gradio) (22.2.0)\n",
            "Requirement already satisfied: frozenlist>=1.1.1 in /usr/local/lib/python3.8/dist-packages (from aiohttp->gradio) (1.3.3)\n",
            "Requirement already satisfied: multidict<7.0,>=4.5 in /usr/local/lib/python3.8/dist-packages (from aiohttp->gradio) (6.0.4)\n",
            "Requirement already satisfied: starlette==0.22.0 in /usr/local/lib/python3.8/dist-packages (from fastapi->gradio) (0.22.0)\n",
            "Requirement already satisfied: anyio<5,>=3.4.0 in /usr/local/lib/python3.8/dist-packages (from starlette==0.22.0->fastapi->gradio) (3.6.2)\n",
            "Requirement already satisfied: httpcore<0.17.0,>=0.15.0 in /usr/local/lib/python3.8/dist-packages (from httpx->gradio) (0.16.3)\n",
            "Requirement already satisfied: sniffio in /usr/local/lib/python3.8/dist-packages (from httpx->gradio) (1.3.0)\n",
            "Requirement already satisfied: certifi in /usr/local/lib/python3.8/dist-packages (from httpx->gradio) (2022.12.7)\n",
            "Requirement already satisfied: rfc3986[idna2008]<2,>=1.3 in /usr/local/lib/python3.8/dist-packages (from httpx->gradio) (1.5.0)\n",
            "Requirement already satisfied: mdurl~=0.1 in /usr/local/lib/python3.8/dist-packages (from markdown-it-py[linkify,plugins]->gradio) (0.1.2)\n",
            "Requirement already satisfied: linkify-it-py~=1.0 in /usr/local/lib/python3.8/dist-packages (from markdown-it-py[linkify,plugins]->gradio) (1.0.3)\n",
            "Requirement already satisfied: mdit-py-plugins in /usr/local/lib/python3.8/dist-packages (from markdown-it-py[linkify,plugins]->gradio) (0.3.3)\n",
            "Requirement already satisfied: pyparsing!=2.0.4,!=2.1.2,!=2.1.6,>=2.0.1 in /usr/local/lib/python3.8/dist-packages (from matplotlib->gradio) (3.0.9)\n",
            "Requirement already satisfied: kiwisolver>=1.0.1 in /usr/local/lib/python3.8/dist-packages (from matplotlib->gradio) (1.4.4)\n",
            "Requirement already satisfied: cycler>=0.10 in /usr/local/lib/python3.8/dist-packages (from matplotlib->gradio) (0.11.0)\n",
            "Requirement already satisfied: six>=1.4.0 in /usr/local/lib/python3.8/dist-packages (from python-multipart->gradio) (1.15.0)\n",
            "Requirement already satisfied: idna<3,>=2.5 in /usr/local/lib/python3.8/dist-packages (from requests->gradio) (2.10)\n",
            "Requirement already satisfied: chardet<5,>=3.0.2 in /usr/local/lib/python3.8/dist-packages (from requests->gradio) (4.0.0)\n",
            "Requirement already satisfied: urllib3<1.27,>=1.21.1 in /usr/local/lib/python3.8/dist-packages (from requests->gradio) (1.24.3)\n",
            "Requirement already satisfied: h11>=0.8 in /usr/local/lib/python3.8/dist-packages (from uvicorn->gradio) (0.14.0)\n",
            "Requirement already satisfied: click>=7.0 in /usr/local/lib/python3.8/dist-packages (from uvicorn->gradio) (7.1.2)\n",
            "Requirement already satisfied: pyrsistent!=0.17.0,!=0.17.1,!=0.17.2,>=0.14.0 in /usr/local/lib/python3.8/dist-packages (from jsonschema>=3.0->altair>=4.2.0->gradio) (0.19.3)\n",
            "Requirement already satisfied: importlib-resources>=1.4.0 in /usr/local/lib/python3.8/dist-packages (from jsonschema>=3.0->altair>=4.2.0->gradio) (5.10.2)\n",
            "Requirement already satisfied: uc-micro-py in /usr/local/lib/python3.8/dist-packages (from linkify-it-py~=1.0->markdown-it-py[linkify,plugins]->gradio) (1.0.1)\n",
            "Requirement already satisfied: zipp>=3.1.0 in /usr/local/lib/python3.8/dist-packages (from importlib-resources>=1.4.0->jsonschema>=3.0->altair>=4.2.0->gradio) (3.11.0)\n",
            "Installing collected packages: gradio\n",
            "  Attempting uninstall: gradio\n",
            "    Found existing installation: gradio 2.5.0\n",
            "    Uninstalling gradio-2.5.0:\n",
            "      Successfully uninstalled gradio-2.5.0\n",
            "Successfully installed gradio-3.16.2\n"
          ]
        }
      ]
    },
    {
      "cell_type": "code",
      "source": [
        "!pip install plotly"
      ],
      "metadata": {
        "colab": {
          "base_uri": "https://localhost:8080/"
        },
        "id": "aegYqSychaPK",
        "outputId": "431e37a7-e7b5-4bb5-f5e1-3aab4bfdbf12"
      },
      "execution_count": null,
      "outputs": [
        {
          "output_type": "stream",
          "name": "stdout",
          "text": [
            "Looking in indexes: https://pypi.org/simple, https://us-python.pkg.dev/colab-wheels/public/simple/\n",
            "Requirement already satisfied: plotly in /usr/local/lib/python3.8/dist-packages (5.5.0)\n",
            "Requirement already satisfied: six in /usr/local/lib/python3.8/dist-packages (from plotly) (1.15.0)\n",
            "Requirement already satisfied: tenacity>=6.2.0 in /usr/local/lib/python3.8/dist-packages (from plotly) (8.1.0)\n"
          ]
        }
      ]
    },
    {
      "cell_type": "code",
      "source": [
        "import torch\n",
        "import tensorflow as tf\n",
        "from transformers import GPT2Tokenizer, GPT2Model, GPT2LMHeadModel\n",
        "from trl.gpt2 import GPT2HeadWithValueModel, respond_to_batch\n",
        "from trl.ppo import PPOTrainer"
      ],
      "metadata": {
        "id": "ArAyCFIKgno5"
      },
      "execution_count": null,
      "outputs": []
    },
    {
      "cell_type": "markdown",
      "source": [
        "### Test the model"
      ],
      "metadata": {
        "id": "JR4ewyzXq3fy"
      }
    },
    {
      "cell_type": "code",
      "source": [
        "model_path = 'brennan-richards/gpt2-finetuned-academic-topics'\n"
      ],
      "metadata": {
        "id": "w2YXlz7yohjv"
      },
      "execution_count": null,
      "outputs": []
    },
    {
      "cell_type": "code",
      "source": [
        "from transformers import pipeline, AutoTokenizer\n",
        "\n",
        "tokenizer = AutoTokenizer.from_pretrained('gpt2')\n",
        "test_model = GPT2LMHeadModel.from_pretrained(model_path, from_tf=True)\n",
        "generator1 = pipeline(task=\"text-generation\", model=test_model, tokenizer=tokenizer)\n",
        "\n"
      ],
      "metadata": {
        "colab": {
          "base_uri": "https://localhost:8080/"
        },
        "id": "3_0GdNCFn7YN",
        "outputId": "61b21fc5-9a54-45da-fa89-b72cdff4373d"
      },
      "execution_count": null,
      "outputs": [
        {
          "output_type": "stream",
          "name": "stderr",
          "text": [
            "All TF 2.0 model weights were used when initializing GPT2LMHeadModel.\n",
            "\n",
            "All the weights of GPT2LMHeadModel were initialized from the TF 2.0 model.\n",
            "If your task is similar to the task the model of the checkpoint was trained on, you can already use GPT2LMHeadModel for predictions without further training.\n"
          ]
        }
      ]
    },
    {
      "cell_type": "code",
      "source": [
        "i = \"deep learning, machine learning, genomics, neuroscience,\"\n",
        "max_len = len(i.split(\" \")) + 10\n",
        "print(max_len)\n",
        "output_list = generator1(i, num_return_sequences=1, max_length=max_len ) # Set max length as the len of the input + (len of largest token in dataset)\n",
        "output_list"
      ],
      "metadata": {
        "colab": {
          "base_uri": "https://localhost:8080/"
        },
        "id": "YAKNKV11pOKk",
        "outputId": "4270923a-f774-4952-d9dc-53afc1bbc27e"
      },
      "execution_count": null,
      "outputs": [
        {
          "output_type": "stream",
          "name": "stderr",
          "text": [
            "Setting `pad_token_id` to `eos_token_id`:50256 for open-end generation.\n"
          ]
        },
        {
          "output_type": "stream",
          "name": "stdout",
          "text": [
            "16\n"
          ]
        },
        {
          "output_type": "execute_result",
          "data": {
            "text/plain": [
              "[{'generated_text': 'deep learning, machine learning, genomics, neuroscience, information soc, network classification'}]"
            ]
          },
          "metadata": {},
          "execution_count": 11
        }
      ]
    },
    {
      "cell_type": "code",
      "source": [
        "# NOTE: Test output of non-RL versus RL model.\n",
        "\n",
        "# from transformers import logging\n",
        "\n",
        "# logging.set_verbosity_error()\n",
        "\n",
        "# max_len = len(i.split(\" \")) + 10\n",
        "# print(max_len)\n",
        "\n",
        "# tokenizer = AutoTokenizer.from_pretrained('distilgpt2')\n",
        "# test_model = GPT2LMHeadModel.from_pretrained(model_path, from_tf=True)\n",
        "# generator1 = pipeline(task=\"text-generation\", model=test_model, tokenizer=tokenizer)\n",
        "# output1 = generator1(i, num_return_sequences=1, max_length=max_len ) # Set max length as the len of the input + (len of largest token in dataset)\n",
        "# print(output1, '\\n')\n",
        "\n",
        "# # tokenizer = AutoTokenizer.from_pretrained('distilgpt2')\n",
        "# gpt2_tokenizer = GPT2Tokenizer.from_pretrained('distilgpt2')\n",
        "# gpt2_model = GPT2HeadWithValueModel.from_pretrained(model_name)\n",
        "# query_tensor = gpt2_tokenizer.encode(i, return_tensors=\"pt\")\n",
        "# response_tensor  = respond_to_batch(gpt2_model, query_tensor, txt_len= max_len )\n",
        "# response_txt = gpt2_tokenizer.decode(response_tensor[0,:])\n",
        "# print(gpt2_model.v_head.detach_head)\n",
        "# print(response_txt, '\\n')\n",
        "\n",
        "# NOTE: W/ detached value head. This is mostly for training.\n",
        "# gpt2_model.detach_value_head()\n",
        "# response_tensor  = respond_to_batch(gpt2_model, query_tensor, txt_len= max_len )\n",
        "# response_txt = gpt2_tokenizer.decode(response_tensor[0,:])\n",
        "# print(gpt2_model.v_head.detach_head)\n",
        "# print(response_txt, '\\n')"
      ],
      "metadata": {
        "id": "KJ2E4BMuGOy4"
      },
      "execution_count": null,
      "outputs": []
    },
    {
      "cell_type": "markdown",
      "source": [
        "### Reinforcement learning with TRL package"
      ],
      "metadata": {
        "id": "LIkoNgiorrmA"
      }
    },
    {
      "cell_type": "code",
      "source": [
        "import requests\n",
        "from PIL import Image\n",
        "from io import BytesIO\n",
        "import IPython\n",
        "import urllib\n",
        "import gradio as gr\n",
        "import pandas as pd\n",
        "import numpy as np\n",
        "import matplotlib\n",
        "matplotlib.use('Agg')\n",
        "import matplotlib.pyplot as plt\n",
        "# import plotly.express as px\n",
        "import random"
      ],
      "metadata": {
        "id": "d8NM8mTo15H7"
      },
      "execution_count": null,
      "outputs": []
    },
    {
      "cell_type": "code",
      "source": [
        "print(gr.__version__)"
      ],
      "metadata": {
        "colab": {
          "base_uri": "https://localhost:8080/"
        },
        "id": "kUVi5BCt7Xdj",
        "outputId": "3b9f63c2-49f6-42b7-a924-433f28de5377"
      },
      "execution_count": null,
      "outputs": [
        {
          "output_type": "stream",
          "name": "stdout",
          "text": [
            "3.16.2\n"
          ]
        }
      ]
    },
    {
      "cell_type": "code",
      "source": [
        "model_name = model_path\n",
        "\n",
        "i = \"deep learning, machine learning, genomics,\"\n",
        "\n",
        "# get models\n",
        "gpt2_model = GPT2HeadWithValueModel.from_pretrained(model_name)\n",
        "gpt2_model_ref = GPT2HeadWithValueModel.from_pretrained(model_name)\n",
        "gpt2_tokenizer = GPT2Tokenizer.from_pretrained('gpt2')"
      ],
      "metadata": {
        "id": "sbqzyutJzPbX",
        "colab": {
          "base_uri": "https://localhost:8080/"
        },
        "outputId": "c529cd12-5945-4080-ae5f-2d8156b87d16"
      },
      "execution_count": null,
      "outputs": [
        {
          "output_type": "stream",
          "name": "stderr",
          "text": [
            "Some weights of GPT2HeadWithValueModel were not initialized from the model checkpoint at brennan-richards/gpt2-finetuned-academic-topics and are newly initialized: ['v_head.summary.bias', 'v_head.summary.weight']\n",
            "You should probably TRAIN this model on a down-stream task to be able to use it for predictions and inference.\n",
            "Some weights of GPT2HeadWithValueModel were not initialized from the model checkpoint at brennan-richards/gpt2-finetuned-academic-topics and are newly initialized: ['v_head.summary.bias', 'v_head.summary.weight']\n",
            "You should probably TRAIN this model on a down-stream task to be able to use it for predictions and inference.\n"
          ]
        }
      ]
    },
    {
      "cell_type": "code",
      "source": [
        "# Move models to GPU for training\n",
        "# device = torch.device(\"cuda\" if torch.cuda.is_available() else \"cpu\")\n",
        "# _ = gpt2_model.to(device)\n",
        "# _ = gpt2_model_ref.to(device)\n",
        "# print(f\"Using device: {device}\")"
      ],
      "metadata": {
        "id": "NcL72DGok5m4"
      },
      "execution_count": null,
      "outputs": []
    },
    {
      "cell_type": "code",
      "source": [
        "# img_response = requests.get(\"https://upload.wikimedia.org/wikipedia/commons/thumb/8/89/Gray754.png/77px-Gray754.png\", stream=True)\n",
        "# img = Image.open(img_response.raw)"
      ],
      "metadata": {
        "id": "xhxNphtlxcn2"
      },
      "execution_count": null,
      "outputs": []
    },
    {
      "cell_type": "code",
      "source": [
        "# get models\n",
        "gpt2_model = GPT2HeadWithValueModel.from_pretrained(model_name)\n",
        "gpt2_model_ref = GPT2HeadWithValueModel.from_pretrained(model_name)\n",
        "gpt2_tokenizer = GPT2Tokenizer.from_pretrained('gpt2')\n",
        "# gpt2_model.detach_value_head()\n",
        "print(\"DETACH HEAD = \" , gpt2_model.v_head.detach_head)\n"
      ],
      "metadata": {
        "colab": {
          "base_uri": "https://localhost:8080/"
        },
        "id": "NiL5XCDEBwVS",
        "outputId": "4d9515b5-bbd1-4ae6-98bd-157280eea511"
      },
      "execution_count": null,
      "outputs": [
        {
          "output_type": "stream",
          "name": "stderr",
          "text": [
            "Some weights of GPT2HeadWithValueModel were not initialized from the model checkpoint at brennan-richards/gpt2-finetuned-academic-topics and are newly initialized: ['v_head.summary.bias', 'v_head.summary.weight']\n",
            "You should probably TRAIN this model on a down-stream task to be able to use it for predictions and inference.\n",
            "Some weights of GPT2HeadWithValueModel were not initialized from the model checkpoint at brennan-richards/gpt2-finetuned-academic-topics and are newly initialized: ['v_head.summary.bias', 'v_head.summary.weight']\n",
            "You should probably TRAIN this model on a down-stream task to be able to use it for predictions and inference.\n"
          ]
        },
        {
          "output_type": "stream",
          "name": "stdout",
          "text": [
            "DETACH HEAD =  False\n"
          ]
        }
      ]
    },
    {
      "cell_type": "code",
      "source": [
        "\n",
        "# initialize trainer\n",
        "ppo_config = {'batch_size': 1, 'forward_batch_size': 1, \"lr\": 1.41e-5, \"ppo_epochs\": 1} # What is the PPO_epochs param?\n",
        "ppo_trainer = PPOTrainer(gpt2_model, gpt2_model_ref, gpt2_tokenizer, **ppo_config)\n",
        "\n",
        "# Gradio wants all models on CPU.\n",
        "device = torch.device(\"cpu\")\n",
        "_ = gpt2_model.to(device)\n",
        "_ = gpt2_model_ref.to(device)\n",
        "assert str(device) == 'cpu'\n",
        "\n",
        "# Stats\n",
        "n_step = 0\n",
        "rewards = []\n",
        "stats_df = pd.DataFrame({'n_steps':[], 'rewards':[]})\n",
        "\n",
        "# Default interests\n",
        "perm = np.random.permutation( \"deep learning, computer vision, genomics, statistics, chemistry, evolution\".split(\", \") )\n",
        "default_interests = ', '.join(perm[:4]) + ','\n",
        "print(\"INTERESTS: \", default_interests)\n",
        "\n",
        "# Information from the previous step\n",
        "last_query_tensor, last_response_tensor = torch.empty((1, 1)), torch.empty((1, 1))\n",
        "\n",
        "def interact(query_txt, last_step_reward=None, n_concepts=3, n_works=3):\n",
        "  \"\"\"\n",
        "  Wrapper for querying model, passing data to OpenAlex, and retrieving reward from user.\n",
        "\n",
        "  :last_step_reward = the reward from step N - 1\n",
        "\n",
        "  IMPORTANT: Are the model parameters being saved?\n",
        "\n",
        "  NOTE: Model seems to be diverging, try decreasing learning rate\n",
        "  \"\"\"\n",
        "\n",
        "  # Train model with ppo. Runs an Adam optimization step on the model weights.\n",
        "  train_stats = []\n",
        "  fig = plt.figure()\n",
        "  global n_step\n",
        "  global stats_df\n",
        "  global rewards\n",
        "  global last_query_tensor\n",
        "  global last_response_tensor\n",
        "  if not n_step == 0 and n_step % 2 == 0: # Don't run this on the first step,\n",
        "    print(\"REWARD = \", last_step_reward)\n",
        "\n",
        "    # Track rewards over time for plotting.\n",
        "    rewards.append(last_step_reward)\n",
        "\n",
        "    # TODO (A): Create a NN that models the implied reward function based on the user's input.\n",
        "\n",
        "    # TODO: Use (A) to fine tune GPT2 model with RL offline for a number of steps and return to this function.\n",
        "\n",
        "    print(\"Updating model params\")\n",
        "    train_stats = ppo_trainer.step(last_query_tensor, last_response_tensor, [last_step_reward])\n",
        "    #print(\"TRAIN STATS:\", train_stats)\n",
        "\n",
        "    stats_df = pd.DataFrame.from_dict( { \"n_steps\": range(1, (len(rewards) + 1) ), \"rewards\": rewards } )\n",
        "    print(stats_df)\n",
        "    plt.plot(stats_df['n_steps'], stats_df['rewards'])\n",
        "    plt.title(\"Rewards over time\")\n",
        "    plt.ylabel(\"rewards\")\n",
        "    plt.xlabel(\"# of human interactions\")\n",
        "  n_step += 1\n",
        "\n",
        "  # encode a query\n",
        "  query_tensor = gpt2_tokenizer.encode(query_txt, return_tensors=\"pt\")\n",
        "\n",
        "  # Use GPT-2's next generated topic to retrieve n_concepts\n",
        "  top_n_concepts = []\n",
        "  while len(top_n_concepts) == 0: # Loop until getting a valid response from OpenAlex\n",
        "    # get model response\n",
        "    response_tensor  = respond_to_batch(gpt2_model, query_tensor, txt_len= ( len(query_txt.split(\" \")) + 10) )\n",
        "    response_txt = gpt2_tokenizer.decode(response_tensor[0,:])\n",
        "    print(query_txt + response_txt)\n",
        "\n",
        "    # Parse the suggestion out of the generator pipeline\n",
        "    recommendation = (query_txt + response_txt).split(',')[len(query_txt.split(\",\"))]\n",
        "    print(\"RECOMMENDATION = \", recommendation)\n",
        "\n",
        "    # Return a list of concepts related to the search term\n",
        "    url = f\"https://api.openalex.org/concepts?search={ recommendation }&sort=relevance_score:desc\"\n",
        "    # print(url)\n",
        "    r_json = requests.get(url).json()\n",
        "    while r_json is None: # IMPORTANT: Avoid error in API call by not returning None\n",
        "      r_json = requests.get(url).json()\n",
        "\n",
        "    try:\n",
        "      num_concepts = min(n_concepts + 1, len(r_json[\"results\"]))\n",
        "      top_n_concepts = r_json[\"results\"][0:n_concepts + 1]\n",
        "      continue\n",
        "    except Exception: # train model with ppo, output was not found in OpenAlex\n",
        "      auto_reward = -1\n",
        "      print(f\"Auto-param update. Reward = {auto_reward} \")\n",
        "      train_stats = ppo_trainer.step(query_tensor, response_tensor, auto_reward)\n",
        "      continue\n",
        "\n",
        "  # Format the top N concepts\n",
        "  formatted_concepts = [(c['display_name'], c['works_api_url'], c['description'], c['image_url']) for c in top_n_concepts]\n",
        "  return_concept = formatted_concepts[random.choice(range(len(formatted_concepts)))] # Randomly choose from the top_n_concepts\n",
        "  return_concept_name, return_works_api_url, return_concept_description, image_thumbnail_url = return_concept[0], return_concept[1], return_concept[2], return_concept[3]\n",
        "  print(\"CONCEPT: \", return_concept_name)\n",
        "  print(\"WORKS API URL: \", return_works_api_url)\n",
        "  print(\"IMAGE THUMBNAIL URL: \", image_thumbnail_url)\n",
        "  # Retrieve and format scholarly works under this concept\n",
        "  wr_json = requests.get(return_works_api_url + \"&sort=cited_by_count:desc\").json()\n",
        "  top_n_works = wr_json[\"results\"][0:n_works]\n",
        "  works_dict = {}\n",
        "  works_dict = {\n",
        "      'title': [w['title'] for w in top_n_works],\n",
        "      'url': [ f\"<a href={ w['host_venue']['url'] } style='color: blue;' target='_blank' > {w['host_venue']['url']} </a>\" for w in top_n_works ],\n",
        "      'n_citations': [w['cited_by_count'] for w in top_n_works],\n",
        "  }\n",
        "\n",
        "  works_html = \"<table> <tr><th style='border: 1px solid black;'> Title</th> <th style='border: 1px solid black;'> URL </th> <th style='border: 1px solid black;'> Citations </th> </tr>\"\n",
        "  for counter, w_link in enumerate(works_dict['url']):\n",
        "    works_html +=  f\"\"\"<tr>\n",
        "                        <td style='border: 1px solid black;'> { works_dict['title'][counter] } </td>\n",
        "                        <td style='border: 1px solid black;'> {w_link} </td>\n",
        "                          <td style='border: 1px solid black;'> { str(works_dict['n_citations'][counter]) } </td>\n",
        "                       </tr>\"\"\"\n",
        "\n",
        "  works_html += \"</table>\"\n",
        "\n",
        "  # Format the image thumbnail if it exists\n",
        "\n",
        "  img = None\n",
        "  n_retries = 0\n",
        "  if image_thumbnail_url is not None:\n",
        "      while img == None and n_retries < 3: # Retry a couple of times\n",
        "\n",
        "        # img_response = requests.get(image_thumbnail_url, stream=True)\n",
        "        try:\n",
        "          urllib.request.urlretrieve(image_thumbnail_url, \"thumbnail-temp.png\")\n",
        "          img = Image.open(\"thumbnail-temp.png\")\n",
        "        except Exception:\n",
        "          n_retries += 1\n",
        "          img = None\n",
        "\n",
        "\n",
        "  # Save information for PPO step on next iteration\n",
        "  last_query_tensor, last_response_tensor = query_tensor, response_tensor\n",
        "\n",
        "\n",
        "  return return_concept_name, img, return_concept_description, works_html, fig\n",
        "\n",
        "try:\n",
        "  demo = gr.Interface(\n",
        "      fn=interact,\n",
        "      inputs=[gr.Textbox(lines=3, label=\"S.T.E.M. topics you like\"), gr.Slider(-1, 1, value=0, label=\"How much do you like this recommendation?\")],\n",
        "      outputs=[\n",
        "        gr.Textbox(label=\"Recommended concept\"),\n",
        "        gr.Image(label=\"Concept thumbnail image\"),\n",
        "        gr.Textbox(label=\"Concept description\"),\n",
        "        gr.HTML(label=\"Academic works from this concept\"),\n",
        "        gr.Plot(label=\"Rewards over time\"),\n",
        "      ],\n",
        "      # description=\"Enter a list of your interests. Rate the recommendations.\",\n",
        "  )\n",
        "except Exception as e:\n",
        "  print(e)"
      ],
      "metadata": {
        "id": "H0BH1CRMzgri",
        "colab": {
          "base_uri": "https://localhost:8080/"
        },
        "outputId": "19fe07c2-047d-4cea-e8d0-3961aa7a0f1e"
      },
      "execution_count": null,
      "outputs": [
        {
          "output_type": "stream",
          "name": "stdout",
          "text": [
            "INTERESTS:  genomics, statistics, deep learning, chemistry,\n"
          ]
        }
      ]
    },
    {
      "cell_type": "code",
      "source": [
        "demo.launch(debug=True, share=True)"
      ],
      "metadata": {
        "colab": {
          "base_uri": "https://localhost:8080/",
          "height": 1000
        },
        "id": "N2-m9r408n3K",
        "outputId": "253e4581-ec05-45eb-f2df-e0d61a8f17ea"
      },
      "execution_count": null,
      "outputs": [
        {
          "output_type": "stream",
          "name": "stdout",
          "text": [
            "Colab notebook detected. This cell will run indefinitely so that you can see errors and logs. To turn off, set debug=False in launch().\n",
            "Running on public URL: https://d224cb76-f939-4b2b.gradio.live\n",
            "\n",
            "This share link expires in 72 hours. For free permanent hosting and GPU upgrades (NEW!), check out Spaces: https://huggingface.co/spaces\n"
          ]
        },
        {
          "output_type": "display_data",
          "data": {
            "text/plain": [
              "<IPython.core.display.HTML object>"
            ],
            "text/html": [
              "<div><iframe src=\"https://d224cb76-f939-4b2b.gradio.live\" width=\"100%\" height=\"500\" allow=\"autoplay; camera; microphone; clipboard-read; clipboard-write;\" frameborder=\"0\" allowfullscreen></iframe></div>"
            ]
          },
          "metadata": {}
        },
        {
          "output_type": "stream",
          "name": "stderr",
          "text": [
            "<ipython-input-37-5a02309c2ddc>:37: RuntimeWarning: More than 20 figures have been opened. Figures created through the pyplot interface (`matplotlib.pyplot.figure`) are retained until explicitly closed and may consume too much memory. (To control this warning, see the rcParam `figure.max_open_warning`).\n",
            "  fig = plt.figure()\n"
          ]
        },
        {
          "output_type": "stream",
          "name": "stdout",
          "text": [
            "information technology, data science, cybersecurity, enterprise technology, computer vision, natural language processing, data engineering, my seminar, c me, open learn, genome paperontology learning, fast approach, new technology, biological parts\n",
            "RECOMMENDATION =   my seminar\n",
            "information technology, data science, cybersecurity, enterprise technology, computer vision, natural language processing, data engineeringscientific disciplines, genome informatics, socially mediated, and c, journal citation reports, web, distributed learning, excitability\n",
            "RECOMMENDATION =   genome informatics\n",
            "information technology, data science, cybersecurity, enterprise technology, computer vision, natural language processing, data engineering, mobile commotion, cog sensory, intelligent transportation systems, information access, s, computational algorithm, network algebra semantics,\n",
            "RECOMMENDATION =   mobile commotion\n",
            "information technology, data science, cybersecurity, enterprise technology, computer vision, natural language processing, data engineeringneuro chem, probabalistic models, mechanical strategiestelecommunication, socail network analyse, constructive memory, neuro cognitive\n",
            "RECOMMENDATION =   probabalistic models\n",
            "information technology, data science, cybersecurity, enterprise technology, computer vision, natural language processing, data engineering, innovation research, socio technicalwiskott lab, flourescence microscopymicrobiology, computational science, data\n",
            "RECOMMENDATION =   innovation research\n",
            "CONCEPT:  Responsible Research and Innovation\n",
            "WORKS API URL:  https://api.openalex.org/works?filter=concepts.id:C2777720028\n",
            "IMAGE THUMBNAIL URL:  None\n",
            "information technology, data science, cybersecurity, enterprise technology, computer vision, natural language processing, data engineering, chemical reaction network theory, information need, pathway prediction, information resource, neuro prosthesis, sociotechnical\n",
            "RECOMMENDATION =   chemical reaction network theory\n",
            "information technology, data science, cybersecurity, enterprise technology, computer vision, natural language processing, data engineering, machine learning, neuro prosthesis, mobile networks, social cognition, equations, intelligent transportation systemscapability, web tools\n",
            "RECOMMENDATION =   machine learning\n",
            "CONCEPT:  Margin (machine learning)\n",
            "WORKS API URL:  https://api.openalex.org/works?filter=concepts.id:C774472\n",
            "IMAGE THUMBNAIL URL:  https://upload.wikimedia.org/wikipedia/commons/b/b5/Svm_separating_hyperplanes_%%28SVG%%29.svg\n",
            "REWARD =  0.25\n",
            "Updating model params\n",
            "   n_steps  rewards\n",
            "0        1     0.25\n",
            "information technology, data science, cybersecurity, enterprise technology, computer vision, natural language processing, data engineering, statistical inference, discrete optimization, un decidability, collective knowledge, perceptual learning, complexity adaptive, broad institute,\n",
            "RECOMMENDATION =   statistical inference\n",
            "CONCEPT:  Frequentist inference\n",
            "WORKS API URL:  https://api.openalex.org/works?filter=concepts.id:C162376815\n",
            "IMAGE THUMBNAIL URL:  None\n"
          ]
        },
        {
          "output_type": "stream",
          "name": "stderr",
          "text": [
            "<ipython-input-37-5a02309c2ddc>:37: RuntimeWarning: More than 20 figures have been opened. Figures created through the pyplot interface (`matplotlib.pyplot.figure`) are retained until explicitly closed and may consume too much memory. (To control this warning, see the rcParam `figure.max_open_warning`).\n",
            "  fig = plt.figure()\n"
          ]
        },
        {
          "output_type": "stream",
          "name": "stdout",
          "text": [
            "information technology, data science, cybersecurity, enterprise technology, computer vision, natural language processing, data engineering, mechanistic, fluid, digital researcher, computer musicsoftware exploration, lab library, particularsscientific literatures, goodness off\n",
            "RECOMMENDATION =   mechanistic\n",
            "CONCEPT:  Mechanistic organic photochemistry\n",
            "WORKS API URL:  https://api.openalex.org/works?filter=concepts.id:C50445383\n",
            "IMAGE THUMBNAIL URL:  None\n",
            "REWARD =  -0.5\n",
            "Updating model params\n",
            "   n_steps  rewards\n",
            "0        1     0.25\n",
            "1        2    -0.50\n",
            "information technology, data science, cybersecurity, enterprise technology, computer vision, natural language processing, data engineering, philosophical approach, random field ising model, quality improvement paradigm, clarity, structure prediction, type system, c g\n",
            "RECOMMENDATION =   philosophical approach\n",
            "information technology, data science, cybersecurity, enterprise technology, computer vision, natural language processing, data engineering, e, comparative functional genomics, density functional theory, conduction, symbolic is m, foundations of quantum theory,\n",
            "RECOMMENDATION =   e\n",
            "CONCEPT:  Immunoglobulin E\n",
            "WORKS API URL:  https://api.openalex.org/works?filter=concepts.id:C141105273\n",
            "IMAGE THUMBNAIL URL:  https://upload.wikimedia.org/wikipedia/commons/3/36/Allergy_degranulation_processes_01.svg\n"
          ]
        },
        {
          "output_type": "stream",
          "name": "stderr",
          "text": [
            "<ipython-input-37-5a02309c2ddc>:37: RuntimeWarning: More than 20 figures have been opened. Figures created through the pyplot interface (`matplotlib.pyplot.figure`) are retained until explicitly closed and may consume too much memory. (To control this warning, see the rcParam `figure.max_open_warning`).\n",
            "  fig = plt.figure()\n"
          ]
        },
        {
          "output_type": "stream",
          "name": "stdout",
          "text": [
            "information technology, data science, cybersecurity, enterprise technology, computer vision, natural language processing, data engineering, leveraginginformation geometry, awareness, wot, c, bibliotecas universitarias, patents,\n",
            "RECOMMENDATION =   leveraginginformation geometry\n",
            "information technology, data science, cybersecurity, enterprise technology, computer vision, natural language processing, data engineering, bayesian networks, differential equations, chemistry materials, metaphysics, b digital, computational strategy, neuron learning, c\n",
            "RECOMMENDATION =   bayesian networks\n",
            "CONCEPT:  Bayesian network\n",
            "WORKS API URL:  https://api.openalex.org/works?filter=concepts.id:C33724603\n",
            "IMAGE THUMBNAIL URL:  None\n",
            "REWARD =  0.2\n",
            "Updating model params\n",
            "   n_steps  rewards\n",
            "0        1     0.25\n",
            "1        2    -0.50\n",
            "2        3     0.20\n",
            "information technology, data science, cybersecurity, enterprise technology, computer vision, natural language processing, data engineering, brain activities, liquid state machine, meta biology, neuro chem, regulatory strategy, cognitive maps, pathway prediction, sc\n",
            "RECOMMENDATION =   brain activities\n",
            "CONCEPT:  Magnetoencephalography\n",
            "WORKS API URL:  https://api.openalex.org/works?filter=concepts.id:C556910895\n",
            "IMAGE THUMBNAIL URL:  https://upload.wikimedia.org/wikipedia/commons/e/e6/NIMH_MEG.jpg\n"
          ]
        },
        {
          "output_type": "stream",
          "name": "stderr",
          "text": [
            "<ipython-input-37-5a02309c2ddc>:37: RuntimeWarning: More than 20 figures have been opened. Figures created through the pyplot interface (`matplotlib.pyplot.figure`) are retained until explicitly closed and may consume too much memory. (To control this warning, see the rcParam `figure.max_open_warning`).\n",
            "  fig = plt.figure()\n"
          ]
        },
        {
          "output_type": "stream",
          "name": "stdout",
          "text": [
            "information technology, data science, cybersecurity, enterprise technology, computer vision, natural language processing, data engineering, recurrent neural networks, paper b, genomes paper, numerical methods, super computing, implementation research, computational sociology, article\n",
            "RECOMMENDATION =   recurrent neural networks\n",
            "CONCEPT:  Long short term memory\n",
            "WORKS API URL:  https://api.openalex.org/works?filter=concepts.id:C133488467\n",
            "IMAGE THUMBNAIL URL:  https://upload.wikimedia.org/wikipedia/commons/9/93/LSTM_Cell.svg\n",
            "REWARD =  0.1\n",
            "Updating model params\n",
            "   n_steps  rewards\n",
            "0        1     0.25\n",
            "1        2    -0.50\n",
            "2        3     0.20\n",
            "3        4     0.10\n",
            "information technology, data science, cybersecurity, enterprise technology, computer vision, natural language processing, data engineering trends, creative writing, neural code, lessonst, math, micro model, programmers, network neural, tool support,\n",
            "RECOMMENDATION =   creative writing\n",
            "CONCEPT:  Creative writing\n",
            "WORKS API URL:  https://api.openalex.org/works?filter=concepts.id:C198912144\n",
            "IMAGE THUMBNAIL URL:  None\n"
          ]
        },
        {
          "output_type": "stream",
          "name": "stderr",
          "text": [
            "<ipython-input-37-5a02309c2ddc>:37: RuntimeWarning: More than 20 figures have been opened. Figures created through the pyplot interface (`matplotlib.pyplot.figure`) are retained until explicitly closed and may consume too much memory. (To control this warning, see the rcParam `figure.max_open_warning`).\n",
            "  fig = plt.figure()\n"
          ]
        },
        {
          "output_type": "stream",
          "name": "stdout",
          "text": [
            "information technology, data science, cybersecurity, enterprise technology, computer vision, natural language processing, data engineering, tracing, statistical inference, my social annotation, social informatics, energy desksystematic and engineering, brain simulationmethod\n",
            "RECOMMENDATION =   tracing\n",
            "CONCEPT:  Tracing\n",
            "WORKS API URL:  https://api.openalex.org/works?filter=concepts.id:C138673069\n",
            "IMAGE THUMBNAIL URL:  None\n",
            "REWARD =  -0.06\n",
            "Updating model params\n",
            "   n_steps  rewards\n",
            "0        1     0.25\n",
            "1        2    -0.50\n",
            "2        3     0.20\n",
            "3        4     0.10\n",
            "4        5    -0.06\n",
            "information technology, data science, cybersecurity, enterprise technology, computer vision, natural language processing, data engineering, c analyzing, classical, hyperbolic, critical phenomena, integration platform, e, mellitus, more, mid\n",
            "RECOMMENDATION =   c analyzing\n",
            "information technology, data science, cybersecurity, enterprise technology, computer vision, natural language processing, data engineering, epidemiological evidence, algorithmic statistics, visualisation tool, primordial fluctuations, support vector machines, problem, mirror\n",
            "RECOMMENDATION =   epidemiological evidence\n",
            "information technology, data science, cybersecurity, enterprise technology, computer vision, natural language processing, data engineeringcost of complexity, simulation programs, use, information social, multi information, homework, natural stimuli, comp, microarray\n",
            "RECOMMENDATION =   simulation programs\n",
            "CONCEPT:  Simulation language\n",
            "WORKS API URL:  https://api.openalex.org/works?filter=concepts.id:C141218545\n",
            "IMAGE THUMBNAIL URL:  None\n"
          ]
        },
        {
          "output_type": "stream",
          "name": "stderr",
          "text": [
            "<ipython-input-37-5a02309c2ddc>:37: RuntimeWarning: More than 20 figures have been opened. Figures created through the pyplot interface (`matplotlib.pyplot.figure`) are retained until explicitly closed and may consume too much memory. (To control this warning, see the rcParam `figure.max_open_warning`).\n",
            "  fig = plt.figure()\n"
          ]
        },
        {
          "output_type": "stream",
          "name": "stdout",
          "text": [
            "information technology, data science, cybersecurity, enterprise technology, computer vision, natural language processing, data engineeringcomputer simulations, discrete physics, model prediction, is e, friend list, homework, probabilistic information systems, random\n",
            "RECOMMENDATION =   discrete physics\n",
            "CONCEPT:  Cellular automaton\n",
            "WORKS API URL:  https://api.openalex.org/works?filter=concepts.id:C35527583\n",
            "IMAGE THUMBNAIL URL:  https://upload.wikimedia.org/wikipedia/commons/e/e5/Gospers_glider_gun.gif\n",
            "REWARD =  0.01\n",
            "Updating model params\n",
            "   n_steps  rewards\n",
            "0        1     0.25\n",
            "1        2    -0.50\n",
            "2        3     0.20\n",
            "3        4     0.10\n",
            "4        5    -0.06\n",
            "5        6     0.01\n",
            "information technology, data science, cybersecurity, enterprise technology, computer vision, natural language processing, data engineering, information architecture, computer science education, user centred, minimization, neuro consciousness, intelligent systems, a, complex\n",
            "RECOMMENDATION =   information architecture\n",
            "CONCEPT:  Information technology architecture\n",
            "WORKS API URL:  https://api.openalex.org/works?filter=concepts.id:C59269818\n",
            "IMAGE THUMBNAIL URL:  None\n"
          ]
        },
        {
          "output_type": "stream",
          "name": "stderr",
          "text": [
            "<ipython-input-37-5a02309c2ddc>:37: RuntimeWarning: More than 20 figures have been opened. Figures created through the pyplot interface (`matplotlib.pyplot.figure`) are retained until explicitly closed and may consume too much memory. (To control this warning, see the rcParam `figure.max_open_warning`).\n",
            "  fig = plt.figure()\n"
          ]
        },
        {
          "output_type": "stream",
          "name": "stdout",
          "text": [
            "information technology, data science, cybersecurity, enterprise technology, computer vision, natural language processing, data engineering, e, evolutionary inferiority, gene networks, meaningful recommendations, super computing, computation design, tech forecasting, visu\n",
            "RECOMMENDATION =   e\n",
            "CONCEPT:  Vitamin E\n",
            "WORKS API URL:  https://api.openalex.org/works?filter=concepts.id:C2777551382\n",
            "IMAGE THUMBNAIL URL:  https://upload.wikimedia.org/wikipedia/commons/7/7d/RRR_alpha-tocopherol.png\n",
            "REWARD =  -0.84\n",
            "Updating model params\n",
            "   n_steps  rewards\n",
            "0        1     0.25\n",
            "1        2    -0.50\n",
            "2        3     0.20\n",
            "3        4     0.10\n",
            "4        5    -0.06\n",
            "5        6     0.01\n",
            "6        7    -0.84\n",
            "information technology, data science, cybersecurity, enterprise technology, computer vision, natural language processing, data engineering, genome paper, statistical mechanics, being scientist, genetic researchlinearity, complex system, cortical networks, how to,\n",
            "RECOMMENDATION =   genome paper\n",
            "information technology, data science, cybersecurity, enterprise technology, computer vision, natural language processing, data engineering, elementary chemistry, molecule detection, algebraic geometry, first theory, science studies, meyer project, data intensive,\n",
            "RECOMMENDATION =   elementary chemistry\n",
            "information technology, data science, cybersecurity, enterprise technology, computer vision, natural language processing, data engineering, quantum information processing, research machine, digital research, particles, adaptable, digital skills, programming systemsneuro con\n",
            "RECOMMENDATION =   quantum information processing\n",
            "CONCEPT:  Adiabatic quantum computation\n",
            "WORKS API URL:  https://api.openalex.org/works?filter=concepts.id:C192353077\n",
            "IMAGE THUMBNAIL URL:  None\n"
          ]
        },
        {
          "output_type": "stream",
          "name": "stderr",
          "text": [
            "<ipython-input-37-5a02309c2ddc>:37: RuntimeWarning: More than 20 figures have been opened. Figures created through the pyplot interface (`matplotlib.pyplot.figure`) are retained until explicitly closed and may consume too much memory. (To control this warning, see the rcParam `figure.max_open_warning`).\n",
            "  fig = plt.figure()\n"
          ]
        },
        {
          "output_type": "stream",
          "name": "stdout",
          "text": [
            "information technology, data science, cybersecurity, enterprise technology, computer vision, natural language processing, data engineering, statiscal pattern recognition, analytic, hopkins lab, estatistical inference, medial frontal cortex, neuro chem,\n",
            "RECOMMENDATION =   statiscal pattern recognition\n",
            "information technology, data science, cybersecurity, enterprise technology, computer vision, natural language processing, data engineering, recollision effects, a search, electrophysiology, biophysicssystematics terminology, analysis method,\n",
            "RECOMMENDATION =   recollision effects\n",
            "information technology, data science, cybersecurity, enterprise technology, computer vision, natural language processing, data engineering, games for learning, being scientist, know how, phenomenal models, gene set analysis, digital researcher, intelligent systems,\n",
            "RECOMMENDATION =   games for learning\n",
            "information technology, data science, cybersecurity, enterprise technology, computer vision, natural language processing, data engineering, super computing, social web, evolutionism, reengineering, paradigmatic, history of mathematial economics, problem,\n",
            "RECOMMENDATION =   super computing\n",
            "information technology, data science, cybersecurity, enterprise technology, computer vision, natural language processing, data engineering, math, multilevel analysis, construction, to buy, bioinformatics usability, methodology statistics, molecular engineering\n",
            "RECOMMENDATION =   math\n",
            "CONCEPT:  Math wars\n",
            "WORKS API URL:  https://api.openalex.org/works?filter=concepts.id:C39758115\n",
            "IMAGE THUMBNAIL URL:  None\n",
            "REWARD =  -0.22\n",
            "Updating model params\n",
            "   n_steps  rewards\n",
            "0        1     0.25\n",
            "1        2    -0.50\n",
            "2        3     0.20\n",
            "3        4     0.10\n",
            "4        5    -0.06\n",
            "5        6     0.01\n",
            "6        7    -0.84\n",
            "7        8    -0.22\n",
            "information technology, data science, cybersecurity, enterprise technology, computer vision, natural language processing, data engineering, emergence, behavior of the users of ditital scholary journals, guidebookcognitive linguistics, world\n",
            "RECOMMENDATION =   emergence\n",
            "CONCEPT:  Hot spring\n",
            "WORKS API URL:  https://api.openalex.org/works?filter=concepts.id:C2778131859\n",
            "IMAGE THUMBNAIL URL:  https://upload.wikimedia.org/wikipedia/commons/9/9c/Aerial_view_of_Grand_Prismatic_%2823428929375%29.jpg\n"
          ]
        },
        {
          "output_type": "stream",
          "name": "stderr",
          "text": [
            "<ipython-input-37-5a02309c2ddc>:37: RuntimeWarning: More than 20 figures have been opened. Figures created through the pyplot interface (`matplotlib.pyplot.figure`) are retained until explicitly closed and may consume too much memory. (To control this warning, see the rcParam `figure.max_open_warning`).\n",
            "  fig = plt.figure()\n"
          ]
        },
        {
          "output_type": "stream",
          "name": "stdout",
          "text": [
            "information technology, data science, cybersecurity, enterprise technology, computer vision, natural language processing, data engineering, programming model, operational semantics, aes s, newman algorithm, novelty, f, professional development, neuro chem\n",
            "RECOMMENDATION =   programming model\n",
            "CONCEPT:  Parallel programming model\n",
            "WORKS API URL:  https://api.openalex.org/works?filter=concepts.id:C137364921\n",
            "IMAGE THUMBNAIL URL:  None\n",
            "REWARD =  0.16\n",
            "Updating model params\n",
            "   n_steps  rewards\n",
            "0        1     0.25\n",
            "1        2    -0.50\n",
            "2        3     0.20\n",
            "3        4     0.10\n",
            "4        5    -0.06\n",
            "5        6     0.01\n",
            "6        7    -0.84\n",
            "7        8    -0.22\n",
            "8        9     0.16\n",
            "information technology, data science, cybersecurity, enterprise technology, computer vision, natural language processing, data engineering, scietific research, sensors, people, linear operator, alternative, functional evolution, experiment, computer algebra, computer\n",
            "RECOMMENDATION =   scietific research\n",
            "information technology, data science, cybersecurity, enterprise technology, computer vision, natural language processing, data engineering, recollision effects, phenomenon, molecular engineering, explanation, case studies, phonological storage, modification, computer science\n",
            "RECOMMENDATION =   recollision effects\n",
            "information technology, data science, cybersecurity, enterprise technology, computer vision, natural language processing, data engineering, working, editorial, user modelling, virtual power, inmed tins oscillation, information society, psychophysical,\n",
            "RECOMMENDATION =   working\n",
            "CONCEPT:  Working class\n",
            "WORKS API URL:  https://api.openalex.org/works?filter=concepts.id:C170950685\n",
            "IMAGE THUMBNAIL URL:  https://upload.wikimedia.org/wikipedia/commons/4/4a/Construction_Workers.jpg\n"
          ]
        },
        {
          "output_type": "stream",
          "name": "stderr",
          "text": [
            "<ipython-input-37-5a02309c2ddc>:37: RuntimeWarning: More than 20 figures have been opened. Figures created through the pyplot interface (`matplotlib.pyplot.figure`) are retained until explicitly closed and may consume too much memory. (To control this warning, see the rcParam `figure.max_open_warning`).\n",
            "  fig = plt.figure()\n"
          ]
        },
        {
          "output_type": "stream",
          "name": "stdout",
          "text": [
            "information technology, data science, cybersecurity, enterprise technology, computer vision, natural language processing, data engineering, business development, pattern recognition studies, quantum statistical physicsklein lab, molecular information theory, neuro cognitive, t agger, reactions, philosophers\n",
            "RECOMMENDATION =   pattern recognition studies\n",
            "information technology, data science, cybersecurity, enterprise technology, computer vision, natural language processing, data engineering, business development, human computer interaction, digital skills, ma the math, from, classification of sentences, medical literature, user modellingopen innovation,\n",
            "RECOMMENDATION =   human computer interaction\n",
            "CONCEPT:  Human-computer interaction in information security\n",
            "WORKS API URL:  https://api.openalex.org/works?filter=concepts.id:C6353995\n",
            "IMAGE THUMBNAIL URL:  None\n",
            "REWARD =  0.4\n",
            "Updating model params\n",
            "   n_steps  rewards\n",
            "0        1     0.25\n",
            "1        2    -0.50\n",
            "2        3     0.20\n",
            "3        4     0.10\n",
            "4        5    -0.06\n",
            "5        6     0.01\n",
            "6        7    -0.84\n",
            "7        8    -0.22\n",
            "8        9     0.16\n",
            "9       10     0.40\n",
            "information technology, data science, cybersecurity, enterprise technology, computer vision, natural language processing, data engineering, business development, science studies, prediction market, next generation sequencing, career science, t, meta analisis, s, intelligibility,\n",
            "RECOMMENDATION =   science studies\n",
            "CONCEPT:  Food science\n",
            "WORKS API URL:  https://api.openalex.org/works?filter=concepts.id:C31903555\n",
            "IMAGE THUMBNAIL URL:  https://upload.wikimedia.org/wikipedia/commons/9/98/Food_Science_and_Technology.jpg\n"
          ]
        },
        {
          "output_type": "stream",
          "name": "stderr",
          "text": [
            "<ipython-input-37-5a02309c2ddc>:37: RuntimeWarning: More than 20 figures have been opened. Figures created through the pyplot interface (`matplotlib.pyplot.figure`) are retained until explicitly closed and may consume too much memory. (To control this warning, see the rcParam `figure.max_open_warning`).\n",
            "  fig = plt.figure()\n"
          ]
        },
        {
          "output_type": "stream",
          "name": "stdout",
          "text": [
            "information technology, data science, cybersecurity, enterprise technology, computer vision, natural language processing, data engineering, business development, cloud computing, synergistic, economics informatics, witer science, asbioinformatics, invention, t, b, sentences, q\n",
            "RECOMMENDATION =   synergistic\n",
            "CONCEPT:  Synergistic catalysis\n",
            "WORKS API URL:  https://api.openalex.org/works?filter=concepts.id:C129652920\n",
            "IMAGE THUMBNAIL URL:  https://upload.wikimedia.org/wikipedia/commons/8/87/Energy_gap_narrowing_by_synergistic_catalysis.png\n",
            "REWARD =  -0.55\n",
            "Updating model params\n",
            "    n_steps  rewards\n",
            "0         1     0.25\n",
            "1         2    -0.50\n",
            "2         3     0.20\n",
            "3         4     0.10\n",
            "4         5    -0.06\n",
            "5         6     0.01\n",
            "6         7    -0.84\n",
            "7         8    -0.22\n",
            "8         9     0.16\n",
            "9        10     0.40\n",
            "10       11    -0.55\n",
            "information technology, data science, cybersecurity, enterprise technology, computer vision, natural language processing, data engineering, business development, cloud computing, photograph, neuro, neuro balance, artificial grammar, mot, philosophy and psychology, quantum theory, type systems, industrial organization, pseudos\n",
            "RECOMMENDATION =   photograph\n",
            "CONCEPT:  Photogrammetry\n",
            "WORKS API URL:  https://api.openalex.org/works?filter=concepts.id:C117455697\n",
            "IMAGE THUMBNAIL URL:  https://upload.wikimedia.org/wikipedia/commons/f/f3/Three_Arch_Bay_Photo_Taken_by_pilot_D_Ramey_Logan.jpg\n"
          ]
        },
        {
          "output_type": "stream",
          "name": "stderr",
          "text": [
            "<ipython-input-37-5a02309c2ddc>:37: RuntimeWarning: More than 20 figures have been opened. Figures created through the pyplot interface (`matplotlib.pyplot.figure`) are retained until explicitly closed and may consume too much memory. (To control this warning, see the rcParam `figure.max_open_warning`).\n",
            "  fig = plt.figure()\n"
          ]
        },
        {
          "output_type": "stream",
          "name": "stdout",
          "text": [
            "information technology, reinforcement learning, data science, cybersecurity, computer vision, natural language processing, data engineering,  cloud computing, a, statistical structure, computational physics, statistical mechanics, event horizon, data source, fast approach, web and information technologies, it\n",
            "RECOMMENDATION =   a\n",
            "information technology, reinforcement learning, data science, cybersecurity, computer vision, natural language processing, data engineering,  cloud computing, compounds, tech, neuron networks, animate, a model, f, computing servicedigital curation, complexity metrics, scalable computing,\n",
            "RECOMMENDATION =   compounds\n",
            "CONCEPT:  Zinc compounds\n",
            "WORKS API URL:  https://api.openalex.org/works?filter=concepts.id:C2911124769\n",
            "IMAGE THUMBNAIL URL:  None\n",
            "REWARD =  -0.47\n",
            "Updating model params\n",
            "    n_steps  rewards\n",
            "0         1     0.25\n",
            "1         2    -0.50\n",
            "2         3     0.20\n",
            "3         4     0.10\n",
            "4         5    -0.06\n",
            "5         6     0.01\n",
            "6         7    -0.84\n",
            "7         8    -0.22\n",
            "8         9     0.16\n",
            "9        10     0.40\n",
            "10       11    -0.55\n",
            "11       12    -0.47\n",
            "information technology, reinforcement learning, data science, cybersecurity, computer vision, natural language processing, data engineering,  cloud computingstructural biology, research relationship, neural nets, metaphor, concept identification, solution concept, randomized control, designing, scientific workflows,\n",
            "RECOMMENDATION =   research relationship\n",
            "CONCEPT:  Phylogenetics\n",
            "WORKS API URL:  https://api.openalex.org/works?filter=concepts.id:C90132467\n",
            "IMAGE THUMBNAIL URL:  https://upload.wikimedia.org/wikipedia/commons/a/ae/Darwin%27s_finches_by_Gould.jpg\n"
          ]
        },
        {
          "output_type": "stream",
          "name": "stderr",
          "text": [
            "<ipython-input-37-5a02309c2ddc>:37: RuntimeWarning: More than 20 figures have been opened. Figures created through the pyplot interface (`matplotlib.pyplot.figure`) are retained until explicitly closed and may consume too much memory. (To control this warning, see the rcParam `figure.max_open_warning`).\n",
            "  fig = plt.figure()\n"
          ]
        },
        {
          "output_type": "stream",
          "name": "stdout",
          "text": [
            "information technology, reinforcement learning, data science, cybersecurity, computer vision, natural language processing, data engineering,  cloud computing, ctst, comaprative genomicscomputational cognition, m, quant, gene expression, novelty, ucdavis\n",
            "RECOMMENDATION =   ctst\n",
            "information technology, reinforcement learning, data science, cybersecurity, computer vision, natural language processing, data engineering,  cloud computing, number, biochemical reactions, cortical circuits, causal networks, intelligent systems, recognition, quality control, plasticity, security research, system\n",
            "RECOMMENDATION =   number\n",
            "CONCEPT:  Dual (grammatical number)\n",
            "WORKS API URL:  https://api.openalex.org/works?filter=concepts.id:C2780980858\n",
            "IMAGE THUMBNAIL URL:  None\n",
            "REWARD =  0.2\n",
            "Updating model params\n",
            "    n_steps  rewards\n",
            "0         1     0.25\n",
            "1         2    -0.50\n",
            "2         3     0.20\n",
            "3         4     0.10\n",
            "4         5    -0.06\n",
            "5         6     0.01\n",
            "6         7    -0.84\n",
            "7         8    -0.22\n",
            "8         9     0.16\n",
            "9        10     0.40\n",
            "10       11    -0.55\n",
            "11       12    -0.47\n",
            "12       13     0.20\n",
            "information, reinforcement learning, data science, cybersecurity, computer vision, natural language processing, data engineering,  cloud computing, a b, scientific purposes, digital skills, teaching statistics, mathematical statistics, neural integrators, fluid intelligence, telecommunication,\n",
            "RECOMMENDATION =   a b\n",
            "CONCEPT:  B cell\n",
            "WORKS API URL:  https://api.openalex.org/works?filter=concepts.id:C2778453870\n",
            "IMAGE THUMBNAIL URL:  https://upload.wikimedia.org/wikipedia/commons/e/ef/Human_B_Lymphocyte_%2828942386960%29.jpg\n"
          ]
        },
        {
          "output_type": "stream",
          "name": "stderr",
          "text": [
            "<ipython-input-37-5a02309c2ddc>:37: RuntimeWarning: More than 20 figures have been opened. Figures created through the pyplot interface (`matplotlib.pyplot.figure`) are retained until explicitly closed and may consume too much memory. (To control this warning, see the rcParam `figure.max_open_warning`).\n",
            "  fig = plt.figure()\n"
          ]
        },
        {
          "output_type": "stream",
          "name": "stdout",
          "text": [
            "information, reinforcement learning, data science, cybersecurity, computer vision, natural language processing, data engineering,  cloud computing, mobilityontology learning, possible, accelerating mapping, behavioral neuro, media, research relationship, quantitative, computational algorithm, case study\n",
            "RECOMMENDATION =   mobilityontology learning\n",
            "information, reinforcement learning, data science, cybersecurity, computer vision, natural language processing, data engineering,  cloud computing, amphioxus, science books, human information interaction, casual, nmda, metodo cientifico, mechanical strategies\n",
            "RECOMMENDATION =   amphioxus\n",
            "information, reinforcement learning, data science, cybersecurity, computer vision, natural language processing, data engineering,  cloud computing, a presearch relationship, accelerating mapping, algorithm design, reengineeringcomplexity, intelligent systems, mechanistic, information economics,\n",
            "RECOMMENDATION =   a presearch relationship\n",
            "information, reinforcement learning, data science, cybersecurity, computer vision, natural language processing, data engineering,  cloud computing, experiment, polyhedral, neural nets, computational algorithm, hippocampal representation, political science, neuro phenomenology, digital provide,\n",
            "RECOMMENDATION =   experiment\n",
            "CONCEPT:  Randomized experiment\n",
            "WORKS API URL:  https://api.openalex.org/works?filter=concepts.id:C155108698\n",
            "IMAGE THUMBNAIL URL:  https://upload.wikimedia.org/wikipedia/commons/0/00/Flowchart_of_Phases_of_Parallel_Randomized_Trial_-_Modified_from_CONSORT_2010.png\n",
            "REWARD =  0.5\n",
            "Updating model params\n",
            "    n_steps  rewards\n",
            "0         1     0.25\n",
            "1         2    -0.50\n",
            "2         3     0.20\n",
            "3         4     0.10\n",
            "4         5    -0.06\n",
            "5         6     0.01\n",
            "6         7    -0.84\n",
            "7         8    -0.22\n",
            "8         9     0.16\n",
            "9        10     0.40\n",
            "10       11    -0.55\n",
            "11       12    -0.47\n",
            "12       13     0.20\n",
            "13       14     0.50\n",
            "information, reinforcement learning, data science, cybersecurity, computer vision, natural language processing, data engineering,  cloud computing, usability, neural net, symptom calculusth, chemical dimensionality reduction, functional classification, depth first, elementary chemistry,\n",
            "RECOMMENDATION =   usability\n",
            "CONCEPT:  USable\n",
            "WORKS API URL:  https://api.openalex.org/works?filter=concepts.id:C2780615836\n",
            "IMAGE THUMBNAIL URL:  None\n"
          ]
        },
        {
          "output_type": "stream",
          "name": "stderr",
          "text": [
            "<ipython-input-37-5a02309c2ddc>:37: RuntimeWarning: More than 20 figures have been opened. Figures created through the pyplot interface (`matplotlib.pyplot.figure`) are retained until explicitly closed and may consume too much memory. (To control this warning, see the rcParam `figure.max_open_warning`).\n",
            "  fig = plt.figure()\n"
          ]
        },
        {
          "output_type": "stream",
          "name": "stdout",
          "text": [
            "information, reinforcement learning, data science, cybersecurity, computer vision, natural language processing, data engineering,  cloud computing, mapping science, microbiology, n, sensory motor systems, to ti potency, digital research, voluntary simplicity, primary visual cortex\n",
            "RECOMMENDATION =   mapping science\n",
            "information, reinforcement learning, data science, cybersecurity, computer vision, natural language processing, data engineering,  cloud computing, good survey, distributed learning, e, markov data models, social awareness, mirror neuron, a, remembers, brain structure\n",
            "RECOMMENDATION =   good survey\n",
            "information, reinforcement learning, data science, cybersecurity, computer vision, natural language processing, data engineering,  cloud computing, learn based visionstudy, neural nets, microbiology, mobile applications, lecture, visualisation tool, space cognition, design patterns\n",
            "RECOMMENDATION =   learn based visionstudy\n",
            "information, reinforcement learning, data science, cybersecurity, computer vision, natural language processing, data engineering,  cloud computing, v, b, organizational structures, online study, aes s, electronic health records, data mining, fecundity,\n",
            "RECOMMENDATION =   v\n",
            "CONCEPT:  Factor V\n",
            "WORKS API URL:  https://api.openalex.org/works?filter=concepts.id:C2776046644\n",
            "IMAGE THUMBNAIL URL:  https://upload.wikimedia.org/wikipedia/commons/1/11/Protein_F5_PDB_1czs.png\n",
            "REWARD =  -0.66\n",
            "Updating model params\n",
            "    n_steps  rewards\n",
            "0         1     0.25\n",
            "1         2    -0.50\n",
            "2         3     0.20\n",
            "3         4     0.10\n",
            "4         5    -0.06\n",
            "5         6     0.01\n",
            "6         7    -0.84\n",
            "7         8    -0.22\n",
            "8         9     0.16\n",
            "9        10     0.40\n",
            "10       11    -0.55\n",
            "11       12    -0.47\n",
            "12       13     0.20\n",
            "13       14     0.50\n",
            "14       15    -0.66\n",
            "information, reinforcement learning, data science, cybersecurity, computer vision, natural language processing, data engineering,  cloud computing, synthetic chemistry, biological data, multi stage programming, synthetic chemistry, open microscopy, v, neuro plasticity, learning libraries\n",
            "RECOMMENDATION =   synthetic chemistry\n",
            "CONCEPT:  Chemical biology\n",
            "WORKS API URL:  https://api.openalex.org/works?filter=concepts.id:C171852809\n",
            "IMAGE THUMBNAIL URL:  None\n"
          ]
        },
        {
          "output_type": "stream",
          "name": "stderr",
          "text": [
            "<ipython-input-37-5a02309c2ddc>:37: RuntimeWarning: More than 20 figures have been opened. Figures created through the pyplot interface (`matplotlib.pyplot.figure`) are retained until explicitly closed and may consume too much memory. (To control this warning, see the rcParam `figure.max_open_warning`).\n",
            "  fig = plt.figure()\n"
          ]
        },
        {
          "output_type": "stream",
          "name": "stdout",
          "text": [
            "information, reinforcement learning, data science, cybersecurity, computer vision, natural language processing, data engineering,  cloud computing, culture studies, behavioral neuro, web surfing, supplier, gourd, a, literatures, mammalian model, neural bases\n",
            "RECOMMENDATION =   culture studies\n",
            "CONCEPT:  Human geography\n",
            "WORKS API URL:  https://api.openalex.org/works?filter=concepts.id:C87427459\n",
            "IMAGE THUMBNAIL URL:  https://upload.wikimedia.org/wikipedia/commons/2/27/Snow-cholera-map-1.jpg\n",
            "REWARD =  -0.32\n",
            "Updating model params\n",
            "    n_steps  rewards\n",
            "0         1     0.25\n",
            "1         2    -0.50\n",
            "2         3     0.20\n",
            "3         4     0.10\n",
            "4         5    -0.06\n",
            "5         6     0.01\n",
            "6         7    -0.84\n",
            "7         8    -0.22\n",
            "8         9     0.16\n",
            "9        10     0.40\n",
            "10       11    -0.55\n",
            "11       12    -0.47\n",
            "12       13     0.20\n",
            "13       14     0.50\n",
            "14       15    -0.66\n",
            "15       16    -0.32\n",
            "information, reinforcement learning, data science, cybersecurity, computer vision, natural language processing, data engineering,  cloud computing, somatic evolution, expert review, why, theory theory, analog, human disease network, medical literature, neural field, math\n",
            "RECOMMENDATION =   somatic evolution\n",
            "CONCEPT:  Somatic evolution in cancer\n",
            "WORKS API URL:  https://api.openalex.org/works?filter=concepts.id:C113968399\n",
            "IMAGE THUMBNAIL URL:  None\n"
          ]
        },
        {
          "output_type": "stream",
          "name": "stderr",
          "text": [
            "<ipython-input-37-5a02309c2ddc>:37: RuntimeWarning: More than 20 figures have been opened. Figures created through the pyplot interface (`matplotlib.pyplot.figure`) are retained until explicitly closed and may consume too much memory. (To control this warning, see the rcParam `figure.max_open_warning`).\n",
            "  fig = plt.figure()\n"
          ]
        },
        {
          "output_type": "stream",
          "name": "stdout",
          "text": [
            "information, reinforcement learning, data science, cybersecurity, computer vision, natural language processing, data engineering,  cloud computing, coo laboratories, quantum computer, quantum mechanics, techy project, metabolic effectstotal information, common groundsearch engine, education\n",
            "RECOMMENDATION =   coo laboratories\n",
            "information, reinforcement learning, data science, cybersecurity, computer vision, natural language processing, data engineering,  cloud computing, complexity adaptive, single source, l systems, ucdavis unitrans, bioinformatics usability, review, math,\n",
            "RECOMMENDATION =   complexity adaptive\n",
            "information, reinforcement learning, data science, cybersecurity, computer vision, natural language processing, data engineering,  cloud computing, noise from noise correlations, biologists, neuro, fine structure activity, a, dualities, hardware infrastructure, innovation diffusion, journal\n",
            "RECOMMENDATION =   noise from noise correlations\n",
            "information, reinforcement learning, data science, cybersecurity, computer vision, natural language processing, data engineering,  cloud computing, new classification, mathematical formulas, type systems, mass spectrometry, problem, later, science, bibliographic software,\n",
            "RECOMMENDATION =   new classification\n",
            "information, reinforcement learning, data science, cybersecurity, computer vision, natural language processing, data engineering,  cloud computing, molecular modelling, pattern classification, learning object, knowledge base systems, sequence and structure, pointwise, design insight, health sciences\n",
            "RECOMMENDATION =   molecular modelling\n",
            "CONCEPT:  Monte Carlo molecular modeling\n",
            "WORKS API URL:  https://api.openalex.org/works?filter=concepts.id:C37669827\n",
            "IMAGE THUMBNAIL URL:  None\n",
            "REWARD =  -0.46\n",
            "Updating model params\n",
            "    n_steps  rewards\n",
            "0         1     0.25\n",
            "1         2    -0.50\n",
            "2         3     0.20\n",
            "3         4     0.10\n",
            "4         5    -0.06\n",
            "5         6     0.01\n",
            "6         7    -0.84\n",
            "7         8    -0.22\n",
            "8         9     0.16\n",
            "9        10     0.40\n",
            "10       11    -0.55\n",
            "11       12    -0.47\n",
            "12       13     0.20\n",
            "13       14     0.50\n",
            "14       15    -0.66\n",
            "15       16    -0.32\n",
            "16       17    -0.46\n",
            "information, reinforcement learning, data science, cybersecurity, computer vision, natural language processing, data engineering,  cloud computing, medical data, academic, microarray functional analysis, team science, f, modification, master equation, genomics hidden markov\n",
            "RECOMMENDATION =   medical data\n",
            "CONCEPT:  Blood concentration\n",
            "WORKS API URL:  https://api.openalex.org/works?filter=concepts.id:C3020580990\n",
            "IMAGE THUMBNAIL URL:  None\n"
          ]
        },
        {
          "output_type": "stream",
          "name": "stderr",
          "text": [
            "<ipython-input-37-5a02309c2ddc>:37: RuntimeWarning: More than 20 figures have been opened. Figures created through the pyplot interface (`matplotlib.pyplot.figure`) are retained until explicitly closed and may consume too much memory. (To control this warning, see the rcParam `figure.max_open_warning`).\n",
            "  fig = plt.figure()\n"
          ]
        },
        {
          "output_type": "stream",
          "name": "stdout",
          "text": [
            "information, reinforcement learning, data science, cybersecurity, computer vision, natural language processing, data engineering,  cloud computing, mixed reality, super computing, word recognition, numeration system, mirror neuron, interprocedural analysis, transverse fluid\n",
            "RECOMMENDATION =   mixed reality\n",
            "CONCEPT:  Mixed reality\n",
            "WORKS API URL:  https://api.openalex.org/works?filter=concepts.id:C206776904\n",
            "IMAGE THUMBNAIL URL:  https://upload.wikimedia.org/wikipedia/commons/f/fb/Job_Simulator_mixed_reality_test_001.webm\n",
            "REWARD =  0.5\n",
            "Updating model params\n",
            "    n_steps  rewards\n",
            "0         1     0.25\n",
            "1         2    -0.50\n",
            "2         3     0.20\n",
            "3         4     0.10\n",
            "4         5    -0.06\n",
            "5         6     0.01\n",
            "6         7    -0.84\n",
            "7         8    -0.22\n",
            "8         9     0.16\n",
            "9        10     0.40\n",
            "10       11    -0.55\n",
            "11       12    -0.47\n",
            "12       13     0.20\n",
            "13       14     0.50\n",
            "14       15    -0.66\n",
            "15       16    -0.32\n",
            "16       17    -0.46\n",
            "17       18     0.50\n",
            "information, reinforcement learning, data science, cybersecurity, computer vision, natural language processing, data engineering,  cloud computing, medical genomics, information monology, super computing, web platforms, design principles, equation based, de randomization, science\n",
            "RECOMMENDATION =   medical genomics\n",
            "information, reinforcement learning, data science, cybersecurity, computer vision, natural language processing, data engineering,  cloud computing, t, sub biological, systems biology, tech, biophysics of lysis, molecular simulation, quick guide, used,\n",
            "RECOMMENDATION =   t\n",
            "CONCEPT:  T lymphocyte\n",
            "WORKS API URL:  https://api.openalex.org/works?filter=concepts.id:C2992881475\n",
            "IMAGE THUMBNAIL URL:  None\n"
          ]
        },
        {
          "output_type": "stream",
          "name": "stderr",
          "text": [
            "<ipython-input-37-5a02309c2ddc>:37: RuntimeWarning: More than 20 figures have been opened. Figures created through the pyplot interface (`matplotlib.pyplot.figure`) are retained until explicitly closed and may consume too much memory. (To control this warning, see the rcParam `figure.max_open_warning`).\n",
            "  fig = plt.figure()\n"
          ]
        },
        {
          "output_type": "stream",
          "name": "stdout",
          "text": [
            "information, reinforcement learning, data science, cybersecurity, computer vision, natural language processing, data engineering,  cloud computing, super computing, neuro consciousness, elementary chemistry, evolutionary trace method, a, lit review, n, super computing, extreme value\n",
            "RECOMMENDATION =   super computing\n",
            "information, reinforcement learning, data science, cybersecurity, computer vision, natural language processing, data engineering,  cloud computing, inferior temporal cortex, mechanism, opensourcesoftware exploration, work, inhomogeneity, digital resources, monographs, computations\n",
            "RECOMMENDATION =   inferior temporal cortex\n",
            "information, reinforcement learning, data science, cybersecurity, computer vision, natural language processing, data engineering,  cloud computing, hardware infrastructure, article, computer simulations, polymer project, minute constants, a design intelligence, elementary modes, wikipe da,\n",
            "RECOMMENDATION =   hardware infrastructure\n",
            "CONCEPT:  Message oriented middleware\n",
            "WORKS API URL:  https://api.openalex.org/works?filter=concepts.id:C123640240\n",
            "IMAGE THUMBNAIL URL:  None\n",
            "REWARD =  0.2\n",
            "Updating model params\n",
            "    n_steps  rewards\n",
            "0         1     0.25\n",
            "1         2    -0.50\n",
            "2         3     0.20\n",
            "3         4     0.10\n",
            "4         5    -0.06\n",
            "5         6     0.01\n",
            "6         7    -0.84\n",
            "7         8    -0.22\n",
            "8         9     0.16\n",
            "9        10     0.40\n",
            "10       11    -0.55\n",
            "11       12    -0.47\n",
            "12       13     0.20\n",
            "13       14     0.50\n",
            "14       15    -0.66\n",
            "15       16    -0.32\n",
            "16       17    -0.46\n",
            "17       18     0.50\n",
            "18       19     0.20\n",
            "information, reinforcement learning, data science, cybersecurity, computer vision, natural language processing, data engineering,  cloud computingdarwinian, environmental effects, neuro diversity, analysis method, data visualization, possibleloopy belief propagation, computer security, artificial\n",
            "RECOMMENDATION =   environmental effects\n",
            "CONCEPT:  Impact assessment\n",
            "WORKS API URL:  https://api.openalex.org/works?filter=concepts.id:C111874474\n",
            "IMAGE THUMBNAIL URL:  None\n"
          ]
        },
        {
          "output_type": "stream",
          "name": "stderr",
          "text": [
            "<ipython-input-37-5a02309c2ddc>:37: RuntimeWarning: More than 20 figures have been opened. Figures created through the pyplot interface (`matplotlib.pyplot.figure`) are retained until explicitly closed and may consume too much memory. (To control this warning, see the rcParam `figure.max_open_warning`).\n",
            "  fig = plt.figure()\n"
          ]
        },
        {
          "output_type": "stream",
          "name": "stdout",
          "text": [
            "information, reinforcement learning, data science, cybersecurity, computer vision, natural language processing, data engineering,  cloud computing, z mac, machine learning, paper a, working, compound, f we, intelligent systems, plasma physics, lattice theory\n",
            "RECOMMENDATION =   z mac\n",
            "information, reinforcement learning, data science, cybersecurity, computer vision, natural language processing, data engineering,  cloud computingparietal cortex, more, scientific disciplines, open learnings, science meta stuff, hyperbolic, a taxonomies,\n",
            "RECOMMENDATION =   more\n",
            "CONCEPT:  Randomized controlled trial\n",
            "WORKS API URL:  https://api.openalex.org/works?filter=concepts.id:C168563851\n",
            "IMAGE THUMBNAIL URL:  None\n",
            "Keyboard interruption in main thread... closing server.\n",
            "Killing tunnel 127.0.0.1:7860 <> https://d224cb76-f939-4b2b.gradio.live\n"
          ]
        },
        {
          "output_type": "execute_result",
          "data": {
            "text/plain": []
          },
          "metadata": {},
          "execution_count": 38
        }
      ]
    },
    {
      "cell_type": "code",
      "source": [
        "concept = interact(\"machine learning, offshore wind, ecology, sustainability, ocean engineering\", last_step_reward=0.2)\n",
        "print(concept[0], concept[2], concept[3], sep='\\n')"
      ],
      "metadata": {
        "colab": {
          "base_uri": "https://localhost:8080/"
        },
        "id": "0Lg73oO3L_5g",
        "outputId": "1d5de97f-36a2-419e-8b05-aa5b8c1c174d"
      },
      "execution_count": null,
      "outputs": [
        {
          "output_type": "stream",
          "name": "stdout",
          "text": [
            "machine learning, offshore wind, ecology, sustainability, ocean engineering, numerical physics, regulatory landscapemarkov model, neural integrators, product, molecular modelling\n",
            "RECOMMENDATION =   numerical physics\n",
            "CONCEPT:  Density matrix renormalization group\n",
            "WORKS API URL:  https://api.openalex.org/works?filter=concepts.id:C29547527\n",
            "IMAGE THUMBNAIL URL:  None\n",
            "Density matrix renormalization group\n",
            "numerical variational technique devised to obtain the low energy physics of quantum many-body systems with high accuracy\n",
            "<table> <tr><th style='border: 1px solid black;'> Title</th> <th style='border: 1px solid black;'> URL </th> <th style='border: 1px solid black;'> Citations </th> </tr><tr>\n",
            "                        <td style='border: 1px solid black;'> Density matrix formulation for quantum renormalization groups </td>\n",
            "                        <td style='border: 1px solid black;'> <a href=None style='color: blue;' target='_blank' > None </a> </td>\n",
            "                          <td style='border: 1px solid black;'> 5476 </td>\n",
            "                       </tr><tr>\n",
            "                        <td style='border: 1px solid black;'> The density-matrix renormalization group in the age of matrix product states </td>\n",
            "                        <td style='border: 1px solid black;'> <a href=None style='color: blue;' target='_blank' > None </a> </td>\n",
            "                          <td style='border: 1px solid black;'> 2744 </td>\n",
            "                       </tr><tr>\n",
            "                        <td style='border: 1px solid black;'> Density-matrix algorithms for quantum renormalization groups </td>\n",
            "                        <td style='border: 1px solid black;'> <a href=None style='color: blue;' target='_blank' > None </a> </td>\n",
            "                          <td style='border: 1px solid black;'> 2433 </td>\n",
            "                       </tr></table>\n"
          ]
        }
      ]
    },
    {
      "cell_type": "markdown",
      "source": [
        "### Results"
      ],
      "metadata": {
        "id": "pKKFn4FkvmCv"
      }
    },
    {
      "cell_type": "markdown",
      "source": [
        "#### Fine-tuned model"
      ],
      "metadata": {
        "id": "qkPul2_3wH9z"
      }
    },
    {
      "cell_type": "code",
      "source": [
        "i = \"chemistry, deep learning, evolution, genomics, statistics, graph theory,\""
      ],
      "metadata": {
        "id": "EX7CQ90WwjvT"
      },
      "execution_count": null,
      "outputs": []
    },
    {
      "cell_type": "code",
      "source": [
        "def inference(query_txt):\n",
        "  # encode a query\n",
        "  query_tensor = gpt2_tokenizer.encode(query_txt, return_tensors=\"pt\")\n",
        "\n",
        "  # Use GPT-2's next generated topic to retrieve n_concepts\n",
        "  top_n_concepts = []\n",
        "\n",
        "  # get model response\n",
        "  response_tensor  = respond_to_batch(gpt2_model, query_tensor, txt_len= ( len(query_txt.split(\" \")) + 10) )\n",
        "  response_txt = gpt2_tokenizer.decode(response_tensor[0,:])\n",
        "\n",
        "  return response_txt\n",
        "\n",
        "\n",
        "for counter in range(5):\n",
        "  print(f\"{counter} {inference(i)}\")"
      ],
      "metadata": {
        "colab": {
          "base_uri": "https://localhost:8080/"
        },
        "id": "WJvukfKawec4",
        "outputId": "17b2e0ce-af2f-4232-9139-991a6532e7c9"
      },
      "execution_count": null,
      "outputs": [
        {
          "output_type": "stream",
          "name": "stdout",
          "text": [
            "0  quant, ultra sensitivity, data source, domestic technologies, human processing, programming psychology, trends\n",
            "1  software, integrating, frameworks, product overview, quantum algorithms, survey paper, molecular identification,\n",
            "2  knowledge sharing, interesting, statistical analysis, a, omne tneuro, social inform\n",
            "3  tool support, occur a, academic reference, feature discovery, multi process, design theory,\n",
            "4  neuro psychdigitization, structural balancemultidimensional, disease propagation, research relationship, the\n"
          ]
        }
      ]
    },
    {
      "cell_type": "markdown",
      "source": [
        "#### Non-fine-tuned model"
      ],
      "metadata": {
        "id": "iy3XF696wY15"
      }
    },
    {
      "cell_type": "code",
      "source": [
        "max_len = len(i.split(\" \")) + 40\n",
        "print(max_len)\n",
        "\n",
        "for counter in range(5):\n",
        "  print(f\"{ counter } { generator1(i, num_return_sequences=1, max_length=max_len )[0]['generated_text'] }\") # Set max length as the len of the input + (len of largest token in dataset)"
      ],
      "metadata": {
        "colab": {
          "base_uri": "https://localhost:8080/"
        },
        "id": "GFY7ZFzGvz5n",
        "outputId": "7fbf7d2f-22c9-4c56-be8c-7f384e8b67db"
      },
      "execution_count": null,
      "outputs": [
        {
          "output_type": "stream",
          "name": "stderr",
          "text": [
            "Setting `pad_token_id` to `eos_token_id`:50256 for open-end generation.\n"
          ]
        },
        {
          "output_type": "stream",
          "name": "stdout",
          "text": [
            "48\n"
          ]
        },
        {
          "output_type": "stream",
          "name": "stderr",
          "text": [
            "Setting `pad_token_id` to `eos_token_id`:50256 for open-end generation.\n"
          ]
        },
        {
          "output_type": "stream",
          "name": "stdout",
          "text": [
            "0 chemistry, deep learning, evolution, genomics, statistics, graph theory, webpages, new technology, e, digital researcher, f, computer mediated, mobile elements, brain scanning, data mining software, human information interaction, user classification\n"
          ]
        },
        {
          "output_type": "stream",
          "name": "stderr",
          "text": [
            "Setting `pad_token_id` to `eos_token_id`:50256 for open-end generation.\n"
          ]
        },
        {
          "output_type": "stream",
          "name": "stdout",
          "text": [
            "1 chemistry, deep learning, evolution, genomics, statistics, graph theory, c humans, digital researcher, computer science educational, computational predicition, data source, c, medial frontal cortex, fagins algorithm, software architecture, intelligent\n"
          ]
        },
        {
          "output_type": "stream",
          "name": "stderr",
          "text": [
            "Setting `pad_token_id` to `eos_token_id`:50256 for open-end generation.\n"
          ]
        },
        {
          "output_type": "stream",
          "name": "stdout",
          "text": [
            "2 chemistry, deep learning, evolution, genomics, statistics, graph theory, research relationship, a, knowledge representation, science politics, molecular methods, t, mobile components, research relationship, v, network neural, software exploration, ontology\n"
          ]
        },
        {
          "output_type": "stream",
          "name": "stderr",
          "text": [
            "Setting `pad_token_id` to `eos_token_id`:50256 for open-end generation.\n"
          ]
        },
        {
          "output_type": "stream",
          "name": "stdout",
          "text": [
            "3 chemistry, deep learning, evolution, genomics, statistics, graph theory, cognitive control interface, research relationship, network based, data source, numerical physics, neural integrators, web trends, in, neural net, knowledge sharingmobile networks\n",
            "4 chemistry, deep learning, evolution, genomics, statistics, graph theory, computational sociology, research paper, biological modelling, science communication, cgraph theory, functional analyses, n, molecular mechanics, information soc, s, e, medial\n"
          ]
        }
      ]
    },
    {
      "cell_type": "markdown",
      "source": [
        "#### Scratch"
      ],
      "metadata": {
        "id": "z2YO3xlgnEpz"
      }
    },
    {
      "cell_type": "code",
      "source": [
        "n_step"
      ],
      "metadata": {
        "colab": {
          "base_uri": "https://localhost:8080/"
        },
        "id": "d83Y_V9-Tntb",
        "outputId": "af92db3e-1522-4852-dad5-c4c0fe85897b"
      },
      "execution_count": null,
      "outputs": [
        {
          "output_type": "execute_result",
          "data": {
            "text/plain": [
              "1"
            ]
          },
          "metadata": {},
          "execution_count": 25
        }
      ]
    },
    {
      "cell_type": "code",
      "source": [
        "# import numpy.array as array\n",
        "\n",
        "# {'objective/kl': array(1.289462, dtype=float32), 'objective/kl_dist': array([[-0.18468547,  0.02913914,  0.74619746,  0.20198345,  0.28988886,\n",
        "#         -0.18992865, -0.288383  ,  0.25420332,  0.02143562,  0.18235779,\n",
        "#          0.4640088 , -0.23675537]], dtype=float32), 'objective/logprobs': array([[-9.7589660e-01, -1.0072879e-03, -1.0765718e+00, -8.2480116e+00,\n",
        "#         -3.3704519e+00, -1.0414710e+00, -6.3635521e+00, -5.6039419e+00,\n",
        "#         -1.7408788e+00, -9.2117701e+00, -6.0865836e+00, -7.2170386e+00]],\n",
        "#       dtype=float32), 'objective/ref_logprobs': array([[-0.7912111 , -0.03014643, -1.8227693 , -8.449995  , -3.6603408 ,\n",
        "#         -0.85154235, -6.075169  , -5.858145  , -1.7623144 , -9.394128  ,\n",
        "#         -6.5505924 , -6.9802833 ]], dtype=float32), 'objective/kl_coef': 0.19996000359980798, 'objective/entropy': array(50.937176, dtype=float32), 'ppo/mean_non_score_reward': array(-0.2578408, dtype=float32), 'ppo/loss/policy': array([3.0795732e-07], dtype=float32), 'ppo/loss/value': array([0.55313087], dtype=float32), 'ppo/loss/total': array([0.0553134], dtype=float32), 'ppo/policy/entropy': array([4.922212], dtype=float32), 'ppo/policy/approxkl': array([0.], dtype=float32), 'ppo/policy/policykl': array([0.], dtype=float32), 'ppo/policy/clipfrac': array([0.]), 'ppo/policy/advantages': array([ 0.55474675,  2.389362  ,  0.22772089,  0.03694599, -0.5207685 ,\n",
        "#         0.7164826 , -0.1692832 , -0.7495509 , -0.7058894 , -1.0186545 ,\n",
        "#        -1.310441  ,  0.5493255 ], dtype=float32), 'ppo/policy/advantages_mean': array([-3.0795732e-07], dtype=float32), 'ppo/policy/ratio': array([1., 1., 1., 1., 1., 1., 1., 1., 1., 1., 1., 1.], dtype=float32), 'ppo/returns/mean': array([-0.8171821], dtype=float32), 'ppo/returns/var': array([0.01461094], dtype=float32), 'ppo/val/vpred': array([0.19017708], dtype=float32), 'ppo/val/error': array([1.1062617], dtype=float32), 'ppo/val/clipfrac': array([0.]), 'ppo/val/mean': array([0.19017708], dtype=float32), 'ppo/val/var': array([0.07251107], dtype=float32), 'ppo/val/var_explained': array([-74.714615], dtype=float32), 'time/ppo/forward_pass': 0.29840755462646484, 'time/ppo/compute_rewards': 0.00018453598022460938, 'time/ppo/optimize_step': 1.1635761260986328, 'time/ppo/calc_stats': 0.0008087158203125, 'time/ppo/total': 1.4636282920837402}\\\n",
        "#        .keys()"
      ],
      "metadata": {
        "id": "kit0xjQLT0zi"
      },
      "execution_count": null,
      "outputs": []
    },
    {
      "cell_type": "code",
      "source": [
        "# machine learning, deep learning, graph theory, womens health"
      ],
      "metadata": {
        "id": "c5FZw2Fd-ZVN"
      },
      "execution_count": null,
      "outputs": []
    }
  ]
}